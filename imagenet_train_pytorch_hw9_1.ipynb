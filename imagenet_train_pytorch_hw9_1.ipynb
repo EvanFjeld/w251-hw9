{
 "cells": [
  {
   "cell_type": "code",
   "execution_count": 1,
   "id": "0659cb48",
   "metadata": {
    "id": "cace261f"
   },
   "outputs": [
    {
     "name": "stderr",
     "output_type": "stream",
     "text": [
      "/usr/local/lib/python3.8/dist-packages/tqdm/auto.py:22: TqdmWarning: IProgress not found. Please update jupyter and ipywidgets. See https://ipywidgets.readthedocs.io/en/stable/user_install.html\n",
      "  from .autonotebook import tqdm as notebook_tqdm\n"
     ]
    }
   ],
   "source": [
    "import os\n",
    "import random\n",
    "import shutil\n",
    "import time\n",
    "import warnings\n",
    "\n",
    "import torch\n",
    "import torch.nn as nn\n",
    "import torch.backends.cudnn as cudnn\n",
    "import torch.optim\n",
    "\n",
    "import torch.utils.data\n",
    "import torchvision\n",
    "import torchvision.transforms as transforms\n",
    "import torchvision.datasets as datasets\n",
    "import torchvision.models as models\n",
    "from torch.cuda.amp import autocast, GradScaler\n",
    "\n",
    "import torch.distributed as dist\n",
    "\n",
    "from torch.nn.parallel import DistributedDataParallel as DDP"
   ]
  },
  {
   "cell_type": "code",
   "execution_count": 2,
   "id": "16af4aa1",
   "metadata": {},
   "outputs": [],
   "source": [
    "GPU=0"
   ]
  },
  {
   "cell_type": "code",
   "execution_count": 3,
   "id": "bf330d24",
   "metadata": {
    "id": "363e2b75"
   },
   "outputs": [],
   "source": [
    "SEED=1\n",
    "\n",
    "random.seed(SEED)\n",
    "torch.manual_seed(SEED)\n",
    "cudnn.deterministic = True\n",
    "\n",
    "scaler = GradScaler()"
   ]
  },
  {
   "cell_type": "code",
   "execution_count": 4,
   "id": "93b722bc",
   "metadata": {},
   "outputs": [
    {
     "data": {
      "text/plain": [
       "1"
      ]
     },
     "execution_count": 4,
     "metadata": {},
     "output_type": "execute_result"
    }
   ],
   "source": [
    "torch.cuda.device_count()"
   ]
  },
  {
   "cell_type": "code",
   "execution_count": 5,
   "id": "29024e3c",
   "metadata": {
    "id": "0d479743"
   },
   "outputs": [],
   "source": [
    "START_EPOCH = 0"
   ]
  },
  {
   "cell_type": "code",
   "execution_count": 6,
   "id": "880c95c6",
   "metadata": {
    "id": "97b1a0aa",
    "tags": [
     "parameters"
    ]
   },
   "outputs": [],
   "source": [
    "ARCH = 'resnet18'\n",
    "EPOCHS = 2\n",
    "LR = 0.1\n",
    "MOMENTUM = 0.9\n",
    "WEIGHT_DECAY = 5e-4\n",
    "PRINT_FREQ = 50\n",
    "TRAIN_BATCH=512\n",
    "VAL_BATCH=512\n",
    "WORKERS=2\n",
    "\n",
    "TRAINDIR=\"/data/train\"\n",
    "VALDIR=\"/data/val\""
   ]
  },
  {
   "cell_type": "markdown",
   "id": "44bea9e0",
   "metadata": {
    "id": "e86c3188"
   },
   "source": [
    "### Check if cuda is available here"
   ]
  },
  {
   "cell_type": "code",
   "execution_count": 7,
   "id": "86dfaf24",
   "metadata": {
    "colab": {
     "base_uri": "https://localhost:8080/"
    },
    "id": "63a0499b",
    "outputId": "4a90cd73-a4b2-42ea-fb9a-e3afb36f2063"
   },
   "outputs": [],
   "source": [
    "# check if cuda is available in this cell\n",
    "# if it is not available, you should not go forward!\n",
    "if not torch.cuda.is_available():\n",
    "    print(\"GPU not detected...\")"
   ]
  },
  {
   "cell_type": "code",
   "execution_count": 8,
   "id": "138c2049",
   "metadata": {},
   "outputs": [],
   "source": [
    "# set your active device to your GPU in this cell\n",
    "#device = torch.device(\"cuda\")\n",
    "GPU = torch.device('cuda:0')\n",
    "cudnn.benchmark = True"
   ]
  },
  {
   "cell_type": "markdown",
   "id": "83d73e65",
   "metadata": {
    "id": "f83c35f6"
   },
   "source": [
    "### Create the multi cluster world"
   ]
  },
  {
   "cell_type": "code",
   "execution_count": 9,
   "id": "0e56dfb4",
   "metadata": {
    "id": "252a08a3"
   },
   "outputs": [],
   "source": [
    "WORLD_SIZE = 2\n",
    "BACKEND = 'nccl'\n",
    "#where is the master?\n",
    "URL = 'tcp://172.31.7.210:1234' #ip of master VM"
   ]
  },
  {
   "cell_type": "code",
   "execution_count": 10,
   "id": "384a941f",
   "metadata": {
    "id": "d8e7ec23"
   },
   "outputs": [],
   "source": [
    "RANK = 1 #this is for the master, use a 1 for the other vm"
   ]
  },
  {
   "cell_type": "code",
   "execution_count": 11,
   "id": "bf7ff274",
   "metadata": {},
   "outputs": [],
   "source": [
    "dist.init_process_group(backend = BACKEND, init_method = URL, \n",
    "                        world_size = WORLD_SIZE, rank = RANK)"
   ]
  },
  {
   "cell_type": "code",
   "execution_count": 12,
   "id": "45861376",
   "metadata": {},
   "outputs": [
    {
     "name": "stdout",
     "output_type": "stream",
     "text": [
      "Rank: 1, World size: 2\n"
     ]
    }
   ],
   "source": [
    "print(f\"Rank: {dist.get_rank()}, World size: {dist.get_world_size()}\")"
   ]
  },
  {
   "cell_type": "code",
   "execution_count": 13,
   "id": "7b5d3137",
   "metadata": {
    "id": "1e5ddf20"
   },
   "outputs": [],
   "source": [
    "torch.cuda.set_device(GPU)\n",
    "cudnn.benchmark = True"
   ]
  },
  {
   "cell_type": "markdown",
   "id": "d26f4d77",
   "metadata": {
    "id": "7cdd6e12"
   },
   "source": [
    "### Fill in the heart of the train section below"
   ]
  },
  {
   "cell_type": "code",
   "execution_count": 14,
   "id": "a173852d",
   "metadata": {
    "id": "70dbd4c4"
   },
   "outputs": [],
   "source": [
    "def train(train_loader, model, criterion, optimizer, epoch):\n",
    "    batch_time = AverageMeter('Time', ':6.3f')\n",
    "    data_time = AverageMeter('Data', ':6.3f')\n",
    "    losses = AverageMeter('Loss', ':.4e')\n",
    "    top1 = AverageMeter('Acc@1', ':6.2f')\n",
    "    top5 = AverageMeter('Acc@5', ':6.2f')\n",
    "    progress = ProgressMeter(\n",
    "        len(train_loader),\n",
    "        [batch_time, data_time, losses, top1, top5],\n",
    "        prefix=\"Epoch: [{}]\".format(epoch))\n",
    "\n",
    "    ######################\n",
    "    # switch model to train mode here\n",
    "    model.train()\n",
    "    ################\n",
    "    \n",
    "    end = time.time()\n",
    "    for i, (images, target) in enumerate(train_loader):\n",
    "        # measure data loading time\n",
    "        data_time.update(time.time() - end)\n",
    "\n",
    "        #####################\n",
    "        if GPU is not None:\n",
    "            # send the images to cuda device\n",
    "            images = images.cuda(GPU, non_blocking=True)\n",
    "        if torch.cuda.is_available():\n",
    "            # send the target to cuda device\n",
    "            target = target.cuda(GPU, non_blocking=True)\n",
    "\n",
    "        \n",
    "        with autocast():\n",
    "            # compute output\n",
    "            output = model(images)\n",
    "            # compute loss\n",
    "            loss = criterion(output, target)\n",
    "\n",
    "\n",
    "        # measure accuracy and record loss\n",
    "        acc1, acc5 = accuracy(output, target, topk=(1, 5))\n",
    "        losses.update(loss.item(), images.size(0))\n",
    "        top1.update(acc1[0], images.size(0))\n",
    "        top5.update(acc5[0], images.size(0))\n",
    "\n",
    "\n",
    "        #### zero out gradients in the optimier\n",
    "        optimizer.zero_grad()\n",
    "        scaler.scale(loss).backward()\n",
    "        scaler.step(optimizer)\n",
    "        scaler.update()\n",
    "\n",
    "        # measure elapsed time\n",
    "        batch_time.update(time.time() - end)\n",
    "        end = time.time()\n",
    "\n",
    "        if i % PRINT_FREQ == 0:\n",
    "            progress.display(i)"
   ]
  },
  {
   "cell_type": "markdown",
   "id": "f0217935",
   "metadata": {
    "id": "deb3b62e"
   },
   "source": [
    "#### Fill in the validate section below"
   ]
  },
  {
   "cell_type": "code",
   "execution_count": 15,
   "id": "8fc56267",
   "metadata": {
    "id": "a3f276cc"
   },
   "outputs": [],
   "source": [
    "def validate(val_loader, model, criterion):\n",
    "    batch_time = AverageMeter('Time', ':6.3f')\n",
    "    losses = AverageMeter('Loss', ':.4e')\n",
    "    top1 = AverageMeter('Acc@1', ':6.2f')\n",
    "    top5 = AverageMeter('Acc@5', ':6.2f')\n",
    "    progress = ProgressMeter(\n",
    "        len(val_loader),\n",
    "        [batch_time, losses, top1, top5],\n",
    "        prefix='Test: ')\n",
    "\n",
    "    # switch to evaluate mode\n",
    "    model.eval()\n",
    "\n",
    "    with torch.no_grad():\n",
    "        end = time.time()\n",
    "        for i, (images, target) in enumerate(val_loader):\n",
    "            \n",
    "            if GPU is not None:\n",
    "                images = images.cuda(GPU, non_blocking=True)\n",
    "            if torch.cuda.is_available():\n",
    "                target = target.cuda(GPU, non_blocking=True)\n",
    "\n",
    "            # compute output & loss\n",
    "            output = model(images)\n",
    "            loss = criterion(output, target)\n",
    "\n",
    "            # measure accuracy and record loss\n",
    "            acc1, acc5 = accuracy(output, target, topk=(1, 5))\n",
    "            losses.update(loss.item(), images.size(0))\n",
    "            top1.update(acc1[0], images.size(0))\n",
    "            top5.update(acc5[0], images.size(0))\n",
    "\n",
    "            # measure elapsed time\n",
    "            batch_time.update(time.time() - end)\n",
    "            end = time.time()\n",
    "\n",
    "            if i % PRINT_FREQ == 0:\n",
    "                progress.display(i)\n",
    "        \n",
    "        # TODO: this should also be done with the ProgressMeter\n",
    "        print(' * Acc@1 {top1.avg:.3f} Acc@5 {top5.avg:.3f}'\n",
    "              .format(top1=top1, top5=top5))\n",
    "\n",
    "    return top1.avg"
   ]
  },
  {
   "cell_type": "markdown",
   "id": "39efa0ed",
   "metadata": {
    "id": "fbe49226"
   },
   "source": [
    "### Save the checkpoint"
   ]
  },
  {
   "cell_type": "code",
   "execution_count": 16,
   "id": "7f49b9ff",
   "metadata": {},
   "outputs": [],
   "source": [
    "def save_checkpoint(state, is_best, filename='checkpoints/two_vm_checkpoint.pth.tar'):\n",
    "    # save the model state!\n",
    "    torch.save(state, filename)\n",
    "    \n",
    "    if is_best:\n",
    "        shutil.copyfile(filename, 'checkpoints/two_vm_model_best.pth.tar')"
   ]
  },
  {
   "cell_type": "code",
   "execution_count": 17,
   "id": "5c304734",
   "metadata": {
    "id": "1cd7ea3a"
   },
   "outputs": [],
   "source": [
    "class AverageMeter(object):\n",
    "    \"\"\"Computes and stores the average and current value\"\"\"\n",
    "    def __init__(self, name, fmt=':f'):\n",
    "        self.name = name\n",
    "        self.fmt = fmt\n",
    "        self.reset()\n",
    "\n",
    "    def reset(self):\n",
    "        self.val = 0\n",
    "        self.avg = 0\n",
    "        self.sum = 0\n",
    "        self.count = 0\n",
    "\n",
    "    def update(self, val, n=1):\n",
    "        self.val = val\n",
    "        self.sum += val * n\n",
    "        self.count += n\n",
    "        self.avg = self.sum / self.count\n",
    "\n",
    "    def __str__(self):\n",
    "        fmtstr = '{name} {val' + self.fmt + '} ({avg' + self.fmt + '})'\n",
    "        return fmtstr.format(**self.__dict__)"
   ]
  },
  {
   "cell_type": "code",
   "execution_count": 18,
   "id": "5d044ecb",
   "metadata": {
    "id": "e1da87ab"
   },
   "outputs": [],
   "source": [
    "class ProgressMeter(object):\n",
    "    def __init__(self, num_batches, meters, prefix=\"\"):\n",
    "        self.batch_fmtstr = self._get_batch_fmtstr(num_batches)\n",
    "        self.meters = meters\n",
    "        self.prefix = prefix\n",
    "\n",
    "    def display(self, batch):\n",
    "        entries = [self.prefix + self.batch_fmtstr.format(batch)]\n",
    "        entries += [str(meter) for meter in self.meters]\n",
    "        print('\\t'.join(entries))\n",
    "\n",
    "    def _get_batch_fmtstr(self, num_batches):\n",
    "        num_digits = len(str(num_batches // 1))\n",
    "        fmt = '{:' + str(num_digits) + 'd}'\n",
    "        return '[' + fmt + '/' + fmt.format(num_batches) + ']'"
   ]
  },
  {
   "cell_type": "code",
   "execution_count": 19,
   "id": "c9c44b67",
   "metadata": {
    "id": "00211030"
   },
   "outputs": [],
   "source": [
    "# if we are adjusting the LR manually use this\n",
    "def adjust_learning_rate(optimizer, epoch):\n",
    "    \"\"\"Sets the learning rate to the initial LR decayed by 10 every 30 epochs\"\"\"\n",
    "    lr = LR * (0.1 ** (epoch // 30))\n",
    "    for param_group in optimizer.param_groups:\n",
    "        param_group['lr'] = lr"
   ]
  },
  {
   "cell_type": "code",
   "execution_count": 20,
   "id": "90ab54f9",
   "metadata": {
    "id": "da2c1382"
   },
   "outputs": [],
   "source": [
    "def accuracy(output, target, topk=(1,)):\n",
    "    \"\"\"Computes the accuracy over the k top predictions for the specified values of k\"\"\"\n",
    "    with torch.no_grad():\n",
    "        maxk = max(topk)\n",
    "        batch_size = target.size(0)\n",
    "\n",
    "        _, pred = output.topk(maxk, 1, True, True)\n",
    "        pred = pred.t()\n",
    "        correct = pred.eq(target.view(1, -1).expand_as(pred))\n",
    "\n",
    "        res = []\n",
    "        for k in topk:\n",
    "            correct_k = correct[:k].reshape(-1).float().sum(0, keepdim=True)\n",
    "            res.append(correct_k.mul_(100.0 / batch_size))\n",
    "        return res"
   ]
  },
  {
   "cell_type": "code",
   "execution_count": 21,
   "id": "3d339095",
   "metadata": {
    "id": "5c29e7a1"
   },
   "outputs": [],
   "source": [
    "imagenet_mean_RGB = [0.47889522, 0.47227842, 0.43047404]\n",
    "imagenet_std_RGB = [0.24205776, 0.23828046, 0.25874835]"
   ]
  },
  {
   "cell_type": "code",
   "execution_count": 22,
   "id": "c3987a4d",
   "metadata": {
    "id": "e1a61c02"
   },
   "outputs": [],
   "source": [
    "normalize = transforms.Normalize(mean=imagenet_mean_RGB, std=imagenet_std_RGB)"
   ]
  },
  {
   "cell_type": "code",
   "execution_count": 23,
   "id": "5ed51521",
   "metadata": {
    "id": "47dd3e49"
   },
   "outputs": [],
   "source": [
    "IMG_SIZE = 224\n",
    "INPUT_SIZE = 256\n",
    "NUM_CLASSES = 1000"
   ]
  },
  {
   "cell_type": "markdown",
   "id": "f0ca9551",
   "metadata": {
    "id": "de4387cb"
   },
   "source": [
    "### Initialize the model using the architecture you selected above"
   ]
  },
  {
   "cell_type": "code",
   "execution_count": 24,
   "id": "e754fd38",
   "metadata": {
    "colab": {
     "base_uri": "https://localhost:8080/",
     "height": 158,
     "referenced_widgets": [
      "3ed3d41696734302b0a8c2bb5a9026cc",
      "4205c04d3e5c4244b144861a9263a322",
      "11839112304746f9a7fd76784958faa4",
      "ae70f8cd257b47cc9af26e1dc7c1ec38",
      "620dae24fc9e4be0b245c019bfb7f4c5",
      "dee11a91c86e4ca1a05b7cb62af41fee",
      "48c5147a2da546af988e4dea6703653a",
      "e952a4ef79f2406082f01c1ef44be20e",
      "e62345a5fe3244e3ad50cee5ff01ae93",
      "2a86b108d37548eba7e5042a00f6d63a",
      "2a592d63a5b24791ad351b5c911fac65"
     ]
    },
    "id": "b1abcc33",
    "outputId": "a35b9eae-97fa-4402-b2bb-c7330adaf1ba"
   },
   "outputs": [
    {
     "name": "stderr",
     "output_type": "stream",
     "text": [
      "/usr/local/lib/python3.8/dist-packages/torchvision/models/_utils.py:208: UserWarning: The parameter 'pretrained' is deprecated since 0.13 and may be removed in the future, please use 'weights' instead.\n",
      "  warnings.warn(\n",
      "/usr/local/lib/python3.8/dist-packages/torchvision/models/_utils.py:223: UserWarning: Arguments other than a weight enum or `None` for 'weights' are deprecated since 0.13 and may be removed in the future. The current behavior is equivalent to passing `weights=ResNet18_Weights.IMAGENET1K_V1`. You can also use `weights=ResNet18_Weights.DEFAULT` to get the most up-to-date weights.\n",
      "  warnings.warn(msg)\n"
     ]
    }
   ],
   "source": [
    "# select the model\n",
    "model = models.__dict__[ARCH](pretrained=True)"
   ]
  },
  {
   "cell_type": "code",
   "execution_count": 25,
   "id": "a0954b18",
   "metadata": {},
   "outputs": [],
   "source": [
    "inf = model.fc.in_features\n",
    "model.fc = nn.Linear(inf, NUM_CLASSES)"
   ]
  },
  {
   "cell_type": "markdown",
   "id": "fbd39c07",
   "metadata": {
    "id": "2db1bb69"
   },
   "source": [
    "### Send the model to the cuda device"
   ]
  },
  {
   "cell_type": "code",
   "execution_count": 26,
   "id": "5cab0e9d",
   "metadata": {
    "id": "7d23ccb4"
   },
   "outputs": [],
   "source": [
    "model.cuda(GPU)\n",
    "model = torch.nn.parallel.DistributedDataParallel(model, device_ids = [GPU])"
   ]
  },
  {
   "cell_type": "markdown",
   "id": "c78ca03c",
   "metadata": {
    "id": "47a8eb8d"
   },
   "source": [
    "### Instantiate the loss to cross entropy"
   ]
  },
  {
   "cell_type": "code",
   "execution_count": 27,
   "id": "2a3bb629",
   "metadata": {
    "id": "a49ae3c9"
   },
   "outputs": [],
   "source": [
    "# use the cross-entropy loss\n",
    "criterion = nn.CrossEntropyLoss().cuda(GPU)"
   ]
  },
  {
   "cell_type": "markdown",
   "id": "bbae0d92",
   "metadata": {
    "id": "8a49045a"
   },
   "source": [
    "### Instantiate the optimizer to SGD"
   ]
  },
  {
   "cell_type": "code",
   "execution_count": 28,
   "id": "2b276d60",
   "metadata": {
    "id": "aa3a04dd"
   },
   "outputs": [],
   "source": [
    "# use SGD .. use the momentum and weight decay vars\n",
    "optimizer = torch.optim.SGD(model.parameters(), lr=LR, momentum=MOMENTUM, weight_decay=WEIGHT_DECAY)"
   ]
  },
  {
   "cell_type": "markdown",
   "id": "9cb59a13",
   "metadata": {
    "id": "f93ef11d"
   },
   "source": [
    "#### Create the learning rate scheduler"
   ]
  },
  {
   "cell_type": "code",
   "execution_count": 29,
   "id": "db436774",
   "metadata": {
    "id": "a0e1727a"
   },
   "outputs": [],
   "source": [
    "# use CosineAnnealingLR\n",
    "scheduler = torch.optim.lr_scheduler.CosineAnnealingLR(optimizer, T_max=EPOCHS, eta_min=0.00001)"
   ]
  },
  {
   "cell_type": "code",
   "execution_count": 30,
   "id": "250e7341",
   "metadata": {
    "id": "2fe08caa"
   },
   "outputs": [],
   "source": [
    "transform_train = transforms.Compose([\n",
    "    transforms.Resize(INPUT_SIZE),\n",
    "    transforms.CenterCrop(IMG_SIZE),\n",
    "    transforms.RandomHorizontalFlip(),\n",
    "    transforms.ToTensor(),\n",
    "    transforms.Normalize(imagenet_mean_RGB, imagenet_std_RGB),\n",
    "])"
   ]
  },
  {
   "cell_type": "markdown",
   "id": "f8852be7",
   "metadata": {
    "id": "236528e1"
   },
   "source": [
    "### Create the train dataset object"
   ]
  },
  {
   "cell_type": "code",
   "execution_count": 31,
   "id": "dfe351af",
   "metadata": {
    "id": "7c29f6b1"
   },
   "outputs": [],
   "source": [
    "train_dataset = datasets.ImageFolder(root=TRAINDIR, \n",
    "                                     transform=transform_train)"
   ]
  },
  {
   "cell_type": "code",
   "execution_count": 32,
   "id": "16f18196",
   "metadata": {
    "id": "63dfe3c0"
   },
   "outputs": [],
   "source": [
    "transform_val = transforms.Compose([\n",
    "    transforms.Resize(INPUT_SIZE),\n",
    "    transforms.CenterCrop(IMG_SIZE),\n",
    "    transforms.ToTensor(),\n",
    "    transforms.Normalize(imagenet_mean_RGB, imagenet_std_RGB),\n",
    "])"
   ]
  },
  {
   "cell_type": "markdown",
   "id": "986ef12a",
   "metadata": {
    "id": "38ca6c39"
   },
   "source": [
    "### Create the val dataset object"
   ]
  },
  {
   "cell_type": "code",
   "execution_count": 33,
   "id": "3b70a6aa",
   "metadata": {
    "id": "42d58f82"
   },
   "outputs": [],
   "source": [
    "# use torchvision.datasets.CIFAR10\n",
    "# val_dataset = torchvision.datasets.CIFAR10(root='./data', train=False, download=True, transform=transform_val)\n",
    "val_dataset = datasets.ImageFolder(root=VALDIR, transform=transform_val)"
   ]
  },
  {
   "cell_type": "markdown",
   "id": "2cf6a1be",
   "metadata": {
    "id": "3a291660"
   },
   "source": [
    "### Create the train dataloader"
   ]
  },
  {
   "cell_type": "code",
   "execution_count": 34,
   "id": "a028d0f3",
   "metadata": {
    "id": "574373be"
   },
   "outputs": [],
   "source": [
    "# fill this in\n",
    "train_loader = torch.utils.data.DataLoader(train_dataset, \n",
    "                     batch_size=TRAIN_BATCH,\n",
    "                     shuffle=False,\n",
    "                     num_workers=WORKERS,\n",
    "                     pin_memory=True,\n",
    "                     sampler=torch.utils.data.distributed.DistributedSampler(train_dataset))"
   ]
  },
  {
   "cell_type": "markdown",
   "id": "9e0d41ab",
   "metadata": {
    "id": "b280c6e0"
   },
   "source": [
    "### Create the c"
   ]
  },
  {
   "cell_type": "code",
   "execution_count": 35,
   "id": "6791919a",
   "metadata": {
    "id": "6aa623fe"
   },
   "outputs": [],
   "source": [
    "# fill this in..\n",
    "val_loader = torch.utils.data.DataLoader(val_dataset, \n",
    "                            batch_size=VAL_BATCH,\n",
    "                            shuffle=False, \n",
    "                            num_workers=WORKERS,\n",
    "                            sampler=None)"
   ]
  },
  {
   "cell_type": "code",
   "execution_count": 36,
   "id": "dd955deb",
   "metadata": {
    "id": "7cfa6766"
   },
   "outputs": [],
   "source": [
    "best_acc1 = 0"
   ]
  },
  {
   "cell_type": "code",
   "execution_count": 37,
   "id": "185631c3",
   "metadata": {
    "colab": {
     "base_uri": "https://localhost:8080/"
    },
    "id": "0d0620a6",
    "outputId": "7b7f29f6-75c9-40cf-8430-9bec156609d3"
   },
   "outputs": [
    {
     "name": "stdout",
     "output_type": "stream",
     "text": [
      "Epoch: [0][   0/1252]\tTime  6.305 ( 6.305)\tData  3.190 ( 3.190)\tLoss 7.0920e+00 (7.0920e+00)\tAcc@1   0.20 (  0.20)\tAcc@5   0.98 (  0.98)\n",
      "Epoch: [0][  50/1252]\tTime  1.966 ( 1.527)\tData  1.140 ( 0.521)\tLoss 2.5780e+00 (4.4829e+00)\tAcc@1  47.66 ( 24.95)\tAcc@5  75.78 ( 44.91)\n",
      "Epoch: [0][ 100/1252]\tTime  3.173 ( 1.611)\tData  2.869 ( 0.709)\tLoss 2.1102e+00 (3.3252e+00)\tAcc@1  51.95 ( 38.73)\tAcc@5  77.93 ( 62.17)\n",
      "Epoch: [0][ 150/1252]\tTime  2.189 ( 1.632)\tData  1.884 ( 0.855)\tLoss 1.8628e+00 (2.8391e+00)\tAcc@1  57.03 ( 44.77)\tAcc@5  82.62 ( 68.90)\n",
      "Epoch: [0][ 200/1252]\tTime  1.690 ( 1.647)\tData  0.204 ( 0.758)\tLoss 1.7395e+00 (2.5825e+00)\tAcc@1  58.20 ( 47.90)\tAcc@5  85.74 ( 72.32)\n",
      "Epoch: [0][ 250/1252]\tTime  1.992 ( 1.658)\tData  0.000 ( 0.611)\tLoss 1.8105e+00 (2.4214e+00)\tAcc@1  56.64 ( 49.91)\tAcc@5  82.62 ( 74.46)\n",
      "Epoch: [0][ 300/1252]\tTime  1.295 ( 1.662)\tData  0.000 ( 0.514)\tLoss 1.7220e+00 (2.3110e+00)\tAcc@1  60.74 ( 51.32)\tAcc@5  83.01 ( 75.88)\n",
      "Epoch: [0][ 350/1252]\tTime  1.634 ( 1.669)\tData  0.000 ( 0.442)\tLoss 1.7584e+00 (2.2313e+00)\tAcc@1  59.57 ( 52.27)\tAcc@5  81.84 ( 76.90)\n",
      "Epoch: [0][ 400/1252]\tTime  1.490 ( 1.673)\tData  0.000 ( 0.387)\tLoss 1.8626e+00 (2.1731e+00)\tAcc@1  57.03 ( 52.97)\tAcc@5  78.12 ( 77.61)\n",
      "Epoch: [0][ 450/1252]\tTime  1.743 ( 1.678)\tData  0.000 ( 0.344)\tLoss 1.8035e+00 (2.1275e+00)\tAcc@1  53.91 ( 53.54)\tAcc@5  81.84 ( 78.18)\n",
      "Epoch: [0][ 500/1252]\tTime  2.403 ( 1.683)\tData  0.000 ( 0.310)\tLoss 1.7159e+00 (2.0915e+00)\tAcc@1  58.59 ( 53.98)\tAcc@5  81.64 ( 78.66)\n",
      "Epoch: [0][ 550/1252]\tTime  2.114 ( 1.685)\tData  0.000 ( 0.284)\tLoss 1.6976e+00 (2.0614e+00)\tAcc@1  58.01 ( 54.35)\tAcc@5  83.20 ( 79.04)\n",
      "Epoch: [0][ 600/1252]\tTime  3.318 ( 1.688)\tData  0.051 ( 0.260)\tLoss 1.8420e+00 (2.0362e+00)\tAcc@1  56.64 ( 54.66)\tAcc@5  81.84 ( 79.35)\n",
      "Epoch: [0][ 650/1252]\tTime  3.088 ( 1.688)\tData  0.000 ( 0.243)\tLoss 1.7701e+00 (2.0169e+00)\tAcc@1  58.20 ( 54.90)\tAcc@5  82.03 ( 79.56)\n",
      "Epoch: [0][ 700/1252]\tTime  3.110 ( 1.690)\tData  0.000 ( 0.226)\tLoss 1.6538e+00 (1.9994e+00)\tAcc@1  60.16 ( 55.09)\tAcc@5  84.77 ( 79.79)\n",
      "Epoch: [0][ 750/1252]\tTime  3.073 ( 1.692)\tData  0.000 ( 0.211)\tLoss 1.5981e+00 (1.9844e+00)\tAcc@1  61.33 ( 55.27)\tAcc@5  85.16 ( 79.95)\n",
      "Epoch: [0][ 800/1252]\tTime  3.070 ( 1.694)\tData  0.000 ( 0.198)\tLoss 1.7129e+00 (1.9700e+00)\tAcc@1  59.77 ( 55.44)\tAcc@5  84.18 ( 80.13)\n",
      "Epoch: [0][ 850/1252]\tTime  2.861 ( 1.694)\tData  0.000 ( 0.187)\tLoss 1.7369e+00 (1.9581e+00)\tAcc@1  57.81 ( 55.59)\tAcc@5  82.42 ( 80.25)\n",
      "Epoch: [0][ 900/1252]\tTime  2.278 ( 1.694)\tData  0.000 ( 0.176)\tLoss 1.9032e+00 (1.9479e+00)\tAcc@1  54.30 ( 55.72)\tAcc@5  79.10 ( 80.36)\n",
      "Epoch: [0][ 950/1252]\tTime  2.990 ( 1.694)\tData  0.000 ( 0.167)\tLoss 1.7697e+00 (1.9385e+00)\tAcc@1  57.62 ( 55.85)\tAcc@5  82.23 ( 80.46)\n",
      "Epoch: [0][1000/1252]\tTime  3.216 ( 1.695)\tData  0.000 ( 0.159)\tLoss 1.7571e+00 (1.9311e+00)\tAcc@1  56.64 ( 55.91)\tAcc@5  83.20 ( 80.55)\n",
      "Epoch: [0][1050/1252]\tTime  2.985 ( 1.696)\tData  0.000 ( 0.151)\tLoss 1.8298e+00 (1.9238e+00)\tAcc@1  59.57 ( 56.00)\tAcc@5  80.27 ( 80.62)\n",
      "Epoch: [0][1100/1252]\tTime  3.200 ( 1.697)\tData  0.561 ( 0.159)\tLoss 1.8749e+00 (1.9182e+00)\tAcc@1  55.66 ( 56.05)\tAcc@5  80.27 ( 80.67)\n",
      "Epoch: [0][1150/1252]\tTime  3.104 ( 1.698)\tData  0.000 ( 0.156)\tLoss 1.7305e+00 (1.9124e+00)\tAcc@1  60.55 ( 56.13)\tAcc@5  82.23 ( 80.74)\n",
      "Epoch: [0][1200/1252]\tTime  2.935 ( 1.697)\tData  0.000 ( 0.150)\tLoss 1.9356e+00 (1.9077e+00)\tAcc@1  54.88 ( 56.19)\tAcc@5  80.08 ( 80.80)\n",
      "Epoch: [0][1250/1252]\tTime  2.913 ( 1.697)\tData  0.000 ( 0.144)\tLoss 1.6345e+00 (1.9032e+00)\tAcc@1  60.94 ( 56.25)\tAcc@5  84.77 ( 80.84)\n",
      "Test: [ 0/98]\tTime  5.239 ( 5.239)\tLoss 1.9519e+00 (1.9519e+00)\tAcc@1  54.88 ( 54.88)\tAcc@5  81.45 ( 81.45)\n",
      "Test: [50/98]\tTime  3.080 ( 1.797)\tLoss 2.6646e+00 (2.4678e+00)\tAcc@1  37.50 ( 44.16)\tAcc@5  69.92 ( 71.81)\n",
      " * Acc@1 42.184 Acc@5 68.954\n",
      "lr: [0.05000500000000001]\n",
      "Epoch: [1][   0/1252]\tTime  4.185 ( 4.185)\tData  3.649 ( 3.649)\tLoss 1.8331e+00 (1.8331e+00)\tAcc@1  57.62 ( 57.62)\tAcc@5  81.64 ( 81.64)\n",
      "Epoch: [1][  50/1252]\tTime  3.167 ( 1.784)\tData  0.000 ( 0.558)\tLoss 1.6166e+00 (1.6454e+00)\tAcc@1  59.57 ( 60.77)\tAcc@5  83.98 ( 84.20)\n",
      "Epoch: [1][ 100/1252]\tTime  3.177 ( 1.741)\tData  0.000 ( 0.282)\tLoss 1.5368e+00 (1.5880e+00)\tAcc@1  60.16 ( 61.95)\tAcc@5  85.94 ( 85.10)\n",
      "Epoch: [1][ 150/1252]\tTime  3.157 ( 1.727)\tData  0.000 ( 0.189)\tLoss 1.5831e+00 (1.5504e+00)\tAcc@1  62.70 ( 62.89)\tAcc@5  85.16 ( 85.64)\n",
      "Epoch: [1][ 200/1252]\tTime  3.050 ( 1.721)\tData  0.000 ( 0.142)\tLoss 1.4110e+00 (1.5339e+00)\tAcc@1  66.02 ( 63.27)\tAcc@5  86.33 ( 85.84)\n",
      "Epoch: [1][ 250/1252]\tTime  3.036 ( 1.720)\tData  0.000 ( 0.114)\tLoss 1.4732e+00 (1.5190e+00)\tAcc@1  66.21 ( 63.58)\tAcc@5  87.11 ( 86.06)\n",
      "Epoch: [1][ 300/1252]\tTime  3.121 ( 1.714)\tData  0.000 ( 0.095)\tLoss 1.4044e+00 (1.5071e+00)\tAcc@1  65.23 ( 63.80)\tAcc@5  87.70 ( 86.22)\n",
      "Epoch: [1][ 350/1252]\tTime  2.993 ( 1.712)\tData  0.000 ( 0.081)\tLoss 1.4501e+00 (1.4975e+00)\tAcc@1  64.84 ( 63.99)\tAcc@5  87.11 ( 86.36)\n",
      "Epoch: [1][ 400/1252]\tTime  2.591 ( 1.711)\tData  0.000 ( 0.071)\tLoss 1.5209e+00 (1.4924e+00)\tAcc@1  64.06 ( 64.13)\tAcc@5  85.55 ( 86.45)\n",
      "Epoch: [1][ 450/1252]\tTime  2.092 ( 1.710)\tData  0.000 ( 0.063)\tLoss 1.4401e+00 (1.4869e+00)\tAcc@1  64.26 ( 64.25)\tAcc@5  88.48 ( 86.52)\n",
      "Epoch: [1][ 500/1252]\tTime  1.792 ( 1.713)\tData  0.000 ( 0.057)\tLoss 1.4185e+00 (1.4834e+00)\tAcc@1  67.38 ( 64.33)\tAcc@5  87.30 ( 86.58)\n",
      "Epoch: [1][ 550/1252]\tTime  1.331 ( 1.713)\tData  0.000 ( 0.052)\tLoss 1.3647e+00 (1.4795e+00)\tAcc@1  67.77 ( 64.43)\tAcc@5  87.70 ( 86.65)\n",
      "Epoch: [1][ 600/1252]\tTime  2.715 ( 1.712)\tData  0.000 ( 0.048)\tLoss 1.5256e+00 (1.4752e+00)\tAcc@1  66.21 ( 64.54)\tAcc@5  85.55 ( 86.71)\n",
      "Epoch: [1][ 650/1252]\tTime  3.164 ( 1.711)\tData  0.000 ( 0.044)\tLoss 1.3898e+00 (1.4736e+00)\tAcc@1  65.23 ( 64.58)\tAcc@5  88.09 ( 86.74)\n",
      "Epoch: [1][ 700/1252]\tTime  3.033 ( 1.711)\tData  0.000 ( 0.041)\tLoss 1.3435e+00 (1.4715e+00)\tAcc@1  68.55 ( 64.62)\tAcc@5  88.48 ( 86.77)\n",
      "Epoch: [1][ 750/1252]\tTime  2.990 ( 1.710)\tData  0.000 ( 0.038)\tLoss 1.2854e+00 (1.4698e+00)\tAcc@1  67.58 ( 64.66)\tAcc@5  88.87 ( 86.77)\n",
      "Epoch: [1][ 800/1252]\tTime  2.993 ( 1.710)\tData  0.000 ( 0.036)\tLoss 1.3399e+00 (1.4665e+00)\tAcc@1  67.38 ( 64.74)\tAcc@5  90.43 ( 86.81)\n",
      "Epoch: [1][ 850/1252]\tTime  3.006 ( 1.709)\tData  0.000 ( 0.034)\tLoss 1.3983e+00 (1.4644e+00)\tAcc@1  63.87 ( 64.80)\tAcc@5  89.26 ( 86.85)\n",
      "Epoch: [1][ 900/1252]\tTime  2.710 ( 1.708)\tData  0.000 ( 0.032)\tLoss 1.5136e+00 (1.4628e+00)\tAcc@1  65.23 ( 64.83)\tAcc@5  87.70 ( 86.87)\n",
      "Epoch: [1][ 950/1252]\tTime  3.151 ( 1.709)\tData  0.000 ( 0.030)\tLoss 1.4473e+00 (1.4611e+00)\tAcc@1  66.21 ( 64.87)\tAcc@5  87.30 ( 86.89)\n",
      "Epoch: [1][1000/1252]\tTime  3.203 ( 1.708)\tData  0.000 ( 0.029)\tLoss 1.4249e+00 (1.4603e+00)\tAcc@1  64.84 ( 64.90)\tAcc@5  89.45 ( 86.92)\n",
      "Epoch: [1][1050/1252]\tTime  3.166 ( 1.709)\tData  0.000 ( 0.027)\tLoss 1.4672e+00 (1.4598e+00)\tAcc@1  62.89 ( 64.91)\tAcc@5  86.91 ( 86.92)\n",
      "Epoch: [1][1100/1252]\tTime  3.080 ( 1.708)\tData  0.000 ( 0.026)\tLoss 1.5328e+00 (1.4596e+00)\tAcc@1  63.48 ( 64.91)\tAcc@5  87.50 ( 86.92)\n",
      "Epoch: [1][1150/1252]\tTime  3.059 ( 1.708)\tData  0.000 ( 0.025)\tLoss 1.4563e+00 (1.4591e+00)\tAcc@1  66.21 ( 64.92)\tAcc@5  86.52 ( 86.92)\n",
      "Epoch: [1][1200/1252]\tTime  3.050 ( 1.708)\tData  0.000 ( 0.024)\tLoss 1.5378e+00 (1.4585e+00)\tAcc@1  63.87 ( 64.94)\tAcc@5  86.52 ( 86.94)\n",
      "Epoch: [1][1250/1252]\tTime  2.975 ( 1.708)\tData  0.000 ( 0.023)\tLoss 1.3493e+00 (1.4580e+00)\tAcc@1  69.14 ( 64.96)\tAcc@5  88.87 ( 86.94)\n",
      "Test: [ 0/98]\tTime  3.984 ( 3.984)\tLoss 1.4527e+00 (1.4527e+00)\tAcc@1  64.26 ( 64.26)\tAcc@5  87.11 ( 87.11)\n",
      "Test: [50/98]\tTime  3.048 ( 1.781)\tLoss 2.1698e+00 (1.9155e+00)\tAcc@1  49.41 ( 54.35)\tAcc@5  73.24 ( 80.58)\n",
      " * Acc@1 51.552 Acc@5 77.380\n",
      "lr: [1e-05]\n",
      "CPU times: user 1h 29min 7s, sys: 51min 3s, total: 2h 20min 11s\n",
      "Wall time: 1h 16min 42s\n"
     ]
    }
   ],
   "source": [
    "%%time\n",
    "\n",
    "for epoch in range(START_EPOCH, EPOCHS):\n",
    "#    adjust_learning_rate(optimizer, epoch)\n",
    "\n",
    "    # train for one epoch\n",
    "    train(train_loader, model, criterion, optimizer, epoch)\n",
    "\n",
    "    # evaluate on validation set\n",
    "    acc1 = validate(val_loader, model, criterion)\n",
    "\n",
    "    # remember best acc@1 and save checkpoint\n",
    "    is_best = acc1 > best_acc1\n",
    "    best_acc1 = max(acc1, best_acc1)\n",
    "\n",
    "    if RANK == 0:\n",
    "        save_checkpoint({\n",
    "            'epoch': epoch + 1,\n",
    "            'arch': ARCH,\n",
    "            'state_dict': model.state_dict(),\n",
    "            'best_acc1': best_acc1,\n",
    "            'optimizer' : optimizer.state_dict(),\n",
    "        }, is_best)\n",
    "    \n",
    "    scheduler.step()\n",
    "    print('lr: ' + str(scheduler.get_last_lr()))"
   ]
  },
  {
   "cell_type": "code",
   "execution_count": null,
   "id": "318393fd",
   "metadata": {
    "colab": {
     "base_uri": "https://localhost:8080/",
     "height": 295
    },
    "id": "45c4cb64",
    "outputId": "996942c0-1c50-4d8f-d0a6-481c3de7200e"
   },
   "outputs": [],
   "source": []
  }
 ],
 "metadata": {
  "accelerator": "GPU",
  "colab": {
   "provenance": []
  },
  "gpuClass": "standard",
  "kernelspec": {
   "display_name": "Python 3 (ipykernel)",
   "language": "python",
   "name": "python3"
  },
  "language_info": {
   "codemirror_mode": {
    "name": "ipython",
    "version": 3
   },
   "file_extension": ".py",
   "mimetype": "text/x-python",
   "name": "python",
   "nbconvert_exporter": "python",
   "pygments_lexer": "ipython3",
   "version": "3.8.10"
  },
  "widgets": {
   "application/vnd.jupyter.widget-state+json": {
    "11839112304746f9a7fd76784958faa4": {
     "model_module": "@jupyter-widgets/controls",
     "model_module_version": "1.5.0",
     "model_name": "FloatProgressModel",
     "state": {
      "_dom_classes": [],
      "_model_module": "@jupyter-widgets/controls",
      "_model_module_version": "1.5.0",
      "_model_name": "FloatProgressModel",
      "_view_count": null,
      "_view_module": "@jupyter-widgets/controls",
      "_view_module_version": "1.5.0",
      "_view_name": "ProgressView",
      "bar_style": "success",
      "description": "",
      "description_tooltip": null,
      "layout": "IPY_MODEL_e952a4ef79f2406082f01c1ef44be20e",
      "max": 46830571,
      "min": 0,
      "orientation": "horizontal",
      "style": "IPY_MODEL_e62345a5fe3244e3ad50cee5ff01ae93",
      "value": 46830571
     }
    },
    "2a592d63a5b24791ad351b5c911fac65": {
     "model_module": "@jupyter-widgets/controls",
     "model_module_version": "1.5.0",
     "model_name": "DescriptionStyleModel",
     "state": {
      "_model_module": "@jupyter-widgets/controls",
      "_model_module_version": "1.5.0",
      "_model_name": "DescriptionStyleModel",
      "_view_count": null,
      "_view_module": "@jupyter-widgets/base",
      "_view_module_version": "1.2.0",
      "_view_name": "StyleView",
      "description_width": ""
     }
    },
    "2a86b108d37548eba7e5042a00f6d63a": {
     "model_module": "@jupyter-widgets/base",
     "model_module_version": "1.2.0",
     "model_name": "LayoutModel",
     "state": {
      "_model_module": "@jupyter-widgets/base",
      "_model_module_version": "1.2.0",
      "_model_name": "LayoutModel",
      "_view_count": null,
      "_view_module": "@jupyter-widgets/base",
      "_view_module_version": "1.2.0",
      "_view_name": "LayoutView",
      "align_content": null,
      "align_items": null,
      "align_self": null,
      "border": null,
      "bottom": null,
      "display": null,
      "flex": null,
      "flex_flow": null,
      "grid_area": null,
      "grid_auto_columns": null,
      "grid_auto_flow": null,
      "grid_auto_rows": null,
      "grid_column": null,
      "grid_gap": null,
      "grid_row": null,
      "grid_template_areas": null,
      "grid_template_columns": null,
      "grid_template_rows": null,
      "height": null,
      "justify_content": null,
      "justify_items": null,
      "left": null,
      "margin": null,
      "max_height": null,
      "max_width": null,
      "min_height": null,
      "min_width": null,
      "object_fit": null,
      "object_position": null,
      "order": null,
      "overflow": null,
      "overflow_x": null,
      "overflow_y": null,
      "padding": null,
      "right": null,
      "top": null,
      "visibility": null,
      "width": null
     }
    },
    "3ed3d41696734302b0a8c2bb5a9026cc": {
     "model_module": "@jupyter-widgets/controls",
     "model_module_version": "1.5.0",
     "model_name": "HBoxModel",
     "state": {
      "_dom_classes": [],
      "_model_module": "@jupyter-widgets/controls",
      "_model_module_version": "1.5.0",
      "_model_name": "HBoxModel",
      "_view_count": null,
      "_view_module": "@jupyter-widgets/controls",
      "_view_module_version": "1.5.0",
      "_view_name": "HBoxView",
      "box_style": "",
      "children": [
       "IPY_MODEL_4205c04d3e5c4244b144861a9263a322",
       "IPY_MODEL_11839112304746f9a7fd76784958faa4",
       "IPY_MODEL_ae70f8cd257b47cc9af26e1dc7c1ec38"
      ],
      "layout": "IPY_MODEL_620dae24fc9e4be0b245c019bfb7f4c5"
     }
    },
    "4205c04d3e5c4244b144861a9263a322": {
     "model_module": "@jupyter-widgets/controls",
     "model_module_version": "1.5.0",
     "model_name": "HTMLModel",
     "state": {
      "_dom_classes": [],
      "_model_module": "@jupyter-widgets/controls",
      "_model_module_version": "1.5.0",
      "_model_name": "HTMLModel",
      "_view_count": null,
      "_view_module": "@jupyter-widgets/controls",
      "_view_module_version": "1.5.0",
      "_view_name": "HTMLView",
      "description": "",
      "description_tooltip": null,
      "layout": "IPY_MODEL_dee11a91c86e4ca1a05b7cb62af41fee",
      "placeholder": "​",
      "style": "IPY_MODEL_48c5147a2da546af988e4dea6703653a",
      "value": "100%"
     }
    },
    "48c5147a2da546af988e4dea6703653a": {
     "model_module": "@jupyter-widgets/controls",
     "model_module_version": "1.5.0",
     "model_name": "DescriptionStyleModel",
     "state": {
      "_model_module": "@jupyter-widgets/controls",
      "_model_module_version": "1.5.0",
      "_model_name": "DescriptionStyleModel",
      "_view_count": null,
      "_view_module": "@jupyter-widgets/base",
      "_view_module_version": "1.2.0",
      "_view_name": "StyleView",
      "description_width": ""
     }
    },
    "620dae24fc9e4be0b245c019bfb7f4c5": {
     "model_module": "@jupyter-widgets/base",
     "model_module_version": "1.2.0",
     "model_name": "LayoutModel",
     "state": {
      "_model_module": "@jupyter-widgets/base",
      "_model_module_version": "1.2.0",
      "_model_name": "LayoutModel",
      "_view_count": null,
      "_view_module": "@jupyter-widgets/base",
      "_view_module_version": "1.2.0",
      "_view_name": "LayoutView",
      "align_content": null,
      "align_items": null,
      "align_self": null,
      "border": null,
      "bottom": null,
      "display": null,
      "flex": null,
      "flex_flow": null,
      "grid_area": null,
      "grid_auto_columns": null,
      "grid_auto_flow": null,
      "grid_auto_rows": null,
      "grid_column": null,
      "grid_gap": null,
      "grid_row": null,
      "grid_template_areas": null,
      "grid_template_columns": null,
      "grid_template_rows": null,
      "height": null,
      "justify_content": null,
      "justify_items": null,
      "left": null,
      "margin": null,
      "max_height": null,
      "max_width": null,
      "min_height": null,
      "min_width": null,
      "object_fit": null,
      "object_position": null,
      "order": null,
      "overflow": null,
      "overflow_x": null,
      "overflow_y": null,
      "padding": null,
      "right": null,
      "top": null,
      "visibility": null,
      "width": null
     }
    },
    "ae70f8cd257b47cc9af26e1dc7c1ec38": {
     "model_module": "@jupyter-widgets/controls",
     "model_module_version": "1.5.0",
     "model_name": "HTMLModel",
     "state": {
      "_dom_classes": [],
      "_model_module": "@jupyter-widgets/controls",
      "_model_module_version": "1.5.0",
      "_model_name": "HTMLModel",
      "_view_count": null,
      "_view_module": "@jupyter-widgets/controls",
      "_view_module_version": "1.5.0",
      "_view_name": "HTMLView",
      "description": "",
      "description_tooltip": null,
      "layout": "IPY_MODEL_2a86b108d37548eba7e5042a00f6d63a",
      "placeholder": "​",
      "style": "IPY_MODEL_2a592d63a5b24791ad351b5c911fac65",
      "value": " 44.7M/44.7M [00:00&lt;00:00, 59.7MB/s]"
     }
    },
    "dee11a91c86e4ca1a05b7cb62af41fee": {
     "model_module": "@jupyter-widgets/base",
     "model_module_version": "1.2.0",
     "model_name": "LayoutModel",
     "state": {
      "_model_module": "@jupyter-widgets/base",
      "_model_module_version": "1.2.0",
      "_model_name": "LayoutModel",
      "_view_count": null,
      "_view_module": "@jupyter-widgets/base",
      "_view_module_version": "1.2.0",
      "_view_name": "LayoutView",
      "align_content": null,
      "align_items": null,
      "align_self": null,
      "border": null,
      "bottom": null,
      "display": null,
      "flex": null,
      "flex_flow": null,
      "grid_area": null,
      "grid_auto_columns": null,
      "grid_auto_flow": null,
      "grid_auto_rows": null,
      "grid_column": null,
      "grid_gap": null,
      "grid_row": null,
      "grid_template_areas": null,
      "grid_template_columns": null,
      "grid_template_rows": null,
      "height": null,
      "justify_content": null,
      "justify_items": null,
      "left": null,
      "margin": null,
      "max_height": null,
      "max_width": null,
      "min_height": null,
      "min_width": null,
      "object_fit": null,
      "object_position": null,
      "order": null,
      "overflow": null,
      "overflow_x": null,
      "overflow_y": null,
      "padding": null,
      "right": null,
      "top": null,
      "visibility": null,
      "width": null
     }
    },
    "e62345a5fe3244e3ad50cee5ff01ae93": {
     "model_module": "@jupyter-widgets/controls",
     "model_module_version": "1.5.0",
     "model_name": "ProgressStyleModel",
     "state": {
      "_model_module": "@jupyter-widgets/controls",
      "_model_module_version": "1.5.0",
      "_model_name": "ProgressStyleModel",
      "_view_count": null,
      "_view_module": "@jupyter-widgets/base",
      "_view_module_version": "1.2.0",
      "_view_name": "StyleView",
      "bar_color": null,
      "description_width": ""
     }
    },
    "e952a4ef79f2406082f01c1ef44be20e": {
     "model_module": "@jupyter-widgets/base",
     "model_module_version": "1.2.0",
     "model_name": "LayoutModel",
     "state": {
      "_model_module": "@jupyter-widgets/base",
      "_model_module_version": "1.2.0",
      "_model_name": "LayoutModel",
      "_view_count": null,
      "_view_module": "@jupyter-widgets/base",
      "_view_module_version": "1.2.0",
      "_view_name": "LayoutView",
      "align_content": null,
      "align_items": null,
      "align_self": null,
      "border": null,
      "bottom": null,
      "display": null,
      "flex": null,
      "flex_flow": null,
      "grid_area": null,
      "grid_auto_columns": null,
      "grid_auto_flow": null,
      "grid_auto_rows": null,
      "grid_column": null,
      "grid_gap": null,
      "grid_row": null,
      "grid_template_areas": null,
      "grid_template_columns": null,
      "grid_template_rows": null,
      "height": null,
      "justify_content": null,
      "justify_items": null,
      "left": null,
      "margin": null,
      "max_height": null,
      "max_width": null,
      "min_height": null,
      "min_width": null,
      "object_fit": null,
      "object_position": null,
      "order": null,
      "overflow": null,
      "overflow_x": null,
      "overflow_y": null,
      "padding": null,
      "right": null,
      "top": null,
      "visibility": null,
      "width": null
     }
    }
   }
  }
 },
 "nbformat": 4,
 "nbformat_minor": 5
}
