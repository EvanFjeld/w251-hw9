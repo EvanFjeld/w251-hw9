{
 "cells": [
  {
   "cell_type": "code",
   "execution_count": 44,
   "id": "cace261f",
   "metadata": {
    "id": "cace261f"
   },
   "outputs": [],
   "source": [
    "import os\n",
    "import random\n",
    "import shutil\n",
    "import time\n",
    "import warnings\n",
    "\n",
    "import torch\n",
    "import torch.nn as nn\n",
    "import torch.backends.cudnn as cudnn\n",
    "import torch.optim\n",
    "\n",
    "import torch.utils.data\n",
    "import torchvision\n",
    "import torchvision.transforms as transforms\n",
    "import torchvision.datasets as datasets\n",
    "import torchvision.models as models\n",
    "from torch.cuda.amp import autocast, GradScaler\n",
    "from torch.utils.tensorboard import SummaryWriter\n",
    "\n",
    "import torch.distributed as dist"
   ]
  },
  {
   "cell_type": "code",
   "execution_count": null,
   "id": "61812400",
   "metadata": {},
   "outputs": [],
   "source": [
    "GPU=0"
   ]
  },
  {
   "cell_type": "code",
   "execution_count": 46,
   "id": "363e2b75",
   "metadata": {
    "id": "363e2b75"
   },
   "outputs": [],
   "source": [
    "SEED=1\n",
    "\n",
    "random.seed(SEED)\n",
    "torch.manual_seed(SEED)\n",
    "cudnn.deterministic = True\n",
    "\n",
    "scaler = GradScaler()"
   ]
  },
  {
   "cell_type": "code",
   "execution_count": null,
   "id": "5f5c1cfa",
   "metadata": {},
   "outputs": [],
   "source": [
    "torch.cuda.device_count()"
   ]
  },
  {
   "cell_type": "code",
   "execution_count": 47,
   "id": "0d479743",
   "metadata": {
    "id": "0d479743"
   },
   "outputs": [],
   "source": [
    "START_EPOCH = 0"
   ]
  },
  {
   "cell_type": "code",
   "execution_count": 48,
   "id": "97b1a0aa",
   "metadata": {
    "id": "97b1a0aa",
    "tags": [
     "parameters"
    ]
   },
   "outputs": [],
   "source": [
    "ARCH = 'resnet18'\n",
    "EPOCHS = 2\n",
    "LR = 0.1\n",
    "MOMENTUM = 0.9\n",
    "WEIGHT_DECAY = 5e-4\n",
    "PRINT_FREQ = 50\n",
    "TRAIN_BATCH=2048\n",
    "VAL_BATCH=2048\n",
    "WORKERS=2\n",
    "\n",
    "TRAINDIR=\"/home/ubuntu/data/train\"\n",
    "VALDIR=\"/home/ubuntu/data/val\""
   ]
  },
  {
   "cell_type": "markdown",
   "id": "e86c3188",
   "metadata": {
    "id": "e86c3188"
   },
   "source": [
    "### Check if cuda is available here"
   ]
  },
  {
   "cell_type": "code",
   "execution_count": 49,
   "id": "63a0499b",
   "metadata": {
    "colab": {
     "base_uri": "https://localhost:8080/"
    },
    "id": "63a0499b",
    "outputId": "4a90cd73-a4b2-42ea-fb9a-e3afb36f2063"
   },
   "outputs": [
    {
     "name": "stdout",
     "output_type": "stream",
     "text": [
      "CUDA is available: True\n"
     ]
    }
   ],
   "source": [
    "# check if cuda is available in this cell\n",
    "# if it is not available, you should not go forward!\n",
    "if not torch.cuda.is_available():\n",
    "    print(\"GPU not detected...\")"
   ]
  },
  {
   "cell_type": "markdown",
   "id": "f83c35f6",
   "metadata": {
    "id": "f83c35f6"
   },
   "source": [
    "### Create the multi cluster world"
   ]
  },
  {
   "cell_type": "code",
   "execution_count": 50,
   "id": "252a08a3",
   "metadata": {
    "id": "252a08a3"
   },
   "outputs": [],
   "source": [
    "WORLD_SIZE = 2\n",
    "BACKEND = 'nccl'\n",
    "#where is the master?\n",
    "URL = 'tcp://34.211.56.224:1234' #ip of master VM"
   ]
  },
  {
   "cell_type": "code",
   "execution_count": 51,
   "id": "d8e7ec23",
   "metadata": {
    "id": "d8e7ec23"
   },
   "outputs": [],
   "source": [
    "RANK = 0 #this is for the master, use a 1 for the other vm"
   ]
  },
  {
   "cell_type": "code",
   "execution_count": null,
   "id": "64863cd7",
   "metadata": {},
   "outputs": [],
   "source": [
    "dist.init_process_group(backend = BACKEND, init_method = URL, \n",
    "                        world_size = WORLD_SIZE, rank = RANK)"
   ]
  },
  {
   "cell_type": "code",
   "execution_count": 52,
   "id": "1e5ddf20",
   "metadata": {
    "id": "1e5ddf20"
   },
   "outputs": [],
   "source": [
    "torch.cuda.set_device(GPU)\n",
    "cudnn.benchmark = True"
   ]
  },
  {
   "cell_type": "markdown",
   "id": "7cdd6e12",
   "metadata": {
    "id": "7cdd6e12"
   },
   "source": [
    "### Fill in the heart of the train section below"
   ]
  },
  {
   "cell_type": "code",
   "execution_count": 65,
   "id": "70dbd4c4",
   "metadata": {
    "id": "70dbd4c4"
   },
   "outputs": [],
   "source": [
    "def train(train_loader, model, criterion, optimizer, epoch):\n",
    "    batch_time = AverageMeter('Time', ':6.3f')\n",
    "    data_time = AverageMeter('Data', ':6.3f')\n",
    "    losses = AverageMeter('Loss', ':.4e')\n",
    "    top1 = AverageMeter('Acc@1', ':6.2f')\n",
    "    top5 = AverageMeter('Acc@5', ':6.2f')\n",
    "    progress = ProgressMeter(\n",
    "        len(train_loader),\n",
    "        [batch_time, data_time, losses, top1, top5],\n",
    "        prefix=\"Epoch: [{}]\".format(epoch))\n",
    "\n",
    "    ######################\n",
    "    # switch model to train mode here\n",
    "    model.train()\n",
    "    ################\n",
    "\n",
    "    end = time.time()\n",
    "    for i, (images, target) in enumerate(train_loader):\n",
    "        # measure data loading time\n",
    "        data_time.update(time.time() - end)\n",
    "        \n",
    "        #####################\n",
    "        # send the images to cuda device\n",
    "        images = images.to(device)\n",
    "        # send the target to cuda device\n",
    "        target = target.to(device)\n",
    "\n",
    "        # compute output\n",
    "        with autocast():\n",
    "            output = model(images)\n",
    "\n",
    "        # compute loss \n",
    "        with autocast():\n",
    "            loss = criterion(output, target)\n",
    "\n",
    "\n",
    "        # measure accuracy and record loss\n",
    "        acc1, acc5 = accuracy(output, target, topk=(1, 5))\n",
    "        losses.update(loss.item(), images.size(0))\n",
    "        top1.update(acc1[0], images.size(0))\n",
    "        top5.update(acc5[0], images.size(0))\n",
    "\n",
    "        # compute gradient and do SGD step\n",
    "        \n",
    "        \n",
    "        \n",
    "        #### zero out gradients in the optimier\n",
    "        optimizer.zero_grad()\n",
    "        scaler.scale(loss).backward()\n",
    "        scaler.step(optimizer)\n",
    "        scaler.update()\n",
    "        \n",
    "        ## backprop!\n",
    "        loss.backward()\n",
    "        \n",
    "        # update the weights!\n",
    "        optimizer.step()\n",
    "\n",
    "        # measure elapsed time\n",
    "        batch_time.update(time.time() - end)\n",
    "        end = time.time()\n",
    "\n",
    "        if i % PRINT_FREQ == 0:\n",
    "            progress.display(i)"
   ]
  },
  {
   "cell_type": "markdown",
   "id": "deb3b62e",
   "metadata": {
    "id": "deb3b62e"
   },
   "source": [
    "#### Fill in the validate section below"
   ]
  },
  {
   "cell_type": "code",
   "execution_count": 66,
   "id": "a3f276cc",
   "metadata": {
    "id": "a3f276cc"
   },
   "outputs": [],
   "source": [
    "def validate(val_loader, model, criterion):\n",
    "    batch_time = AverageMeter('Time', ':6.3f')\n",
    "    losses = AverageMeter('Loss', ':.4e')\n",
    "    top1 = AverageMeter('Acc@1', ':6.2f')\n",
    "    top5 = AverageMeter('Acc@5', ':6.2f')\n",
    "    progress = ProgressMeter(\n",
    "        len(val_loader),\n",
    "        [batch_time, losses, top1, top5],\n",
    "        prefix='Test: ')\n",
    "\n",
    "    # switch to evaluate mode\n",
    "    model.eval()\n",
    "\n",
    "    with torch.no_grad():\n",
    "        end = time.time()\n",
    "        for i, (images, target) in enumerate(val_loader):\n",
    "            \n",
    "            \n",
    "            ### send the images and target to cuda\n",
    "            images = images.cuda()\n",
    "            target = target.cuda()\n",
    "\n",
    "            # compute output\n",
    "            output = model(images)\n",
    "\n",
    "            # compute loss\n",
    "            loss = criterion(output, target)\n",
    "\n",
    "\n",
    "            # measure accuracy and record loss\n",
    "            acc1, acc5 = accuracy(output, target, topk=(1, 5))\n",
    "            losses.update(loss.item(), images.size(0))\n",
    "            top1.update(acc1[0], images.size(0))\n",
    "            top5.update(acc5[0], images.size(0))\n",
    "\n",
    "            # measure elapsed time\n",
    "            batch_time.update(time.time() - end)\n",
    "            end = time.time()\n",
    "\n",
    "            if i % PRINT_FREQ == 0:\n",
    "                progress.display(i)\n",
    "\n",
    "        # TODO: this should also be done with the ProgressMeter\n",
    "        print(' * Acc@1 {top1.avg:.3f} Acc@5 {top5.avg:.3f}'\n",
    "              .format(top1=top1, top5=top5))\n",
    "\n",
    "    return top1.avg"
   ]
  },
  {
   "cell_type": "markdown",
   "id": "fbe49226",
   "metadata": {
    "id": "fbe49226"
   },
   "source": [
    "### Save the checkpoint"
   ]
  },
  {
   "cell_type": "code",
   "execution_count": 67,
   "id": "ff8a4159",
   "metadata": {
    "id": "ff8a4159"
   },
   "outputs": [],
   "source": [
    "def save_checkpoint(state, is_best, filename='checkpoint.pth.tar'):\n",
    "    # save the model state!\n",
    "    torch.save(state, filename)\n",
    "    \n",
    "    if is_best:\n",
    "        shutil.copyfile(filename, 'model_best.pth.tar')"
   ]
  },
  {
   "cell_type": "code",
   "execution_count": 68,
   "id": "1cd7ea3a",
   "metadata": {
    "id": "1cd7ea3a"
   },
   "outputs": [],
   "source": [
    "class AverageMeter(object):\n",
    "    \"\"\"Computes and stores the average and current value\"\"\"\n",
    "    def __init__(self, name, fmt=':f'):\n",
    "        self.name = name\n",
    "        self.fmt = fmt\n",
    "        self.reset()\n",
    "\n",
    "    def reset(self):\n",
    "        self.val = 0\n",
    "        self.avg = 0\n",
    "        self.sum = 0\n",
    "        self.count = 0\n",
    "\n",
    "    def update(self, val, n=1):\n",
    "        self.val = val\n",
    "        self.sum += val * n\n",
    "        self.count += n\n",
    "        self.avg = self.sum / self.count\n",
    "\n",
    "    def __str__(self):\n",
    "        fmtstr = '{name} {val' + self.fmt + '} ({avg' + self.fmt + '})'\n",
    "        return fmtstr.format(**self.__dict__)"
   ]
  },
  {
   "cell_type": "code",
   "execution_count": 69,
   "id": "e1da87ab",
   "metadata": {
    "id": "e1da87ab"
   },
   "outputs": [],
   "source": [
    "class ProgressMeter(object):\n",
    "    def __init__(self, num_batches, meters, prefix=\"\"):\n",
    "        self.batch_fmtstr = self._get_batch_fmtstr(num_batches)\n",
    "        self.meters = meters\n",
    "        self.prefix = prefix\n",
    "\n",
    "    def display(self, batch):\n",
    "        entries = [self.prefix + self.batch_fmtstr.format(batch)]\n",
    "        entries += [str(meter) for meter in self.meters]\n",
    "        print('\\t'.join(entries))\n",
    "\n",
    "    def _get_batch_fmtstr(self, num_batches):\n",
    "        num_digits = len(str(num_batches // 1))\n",
    "        fmt = '{:' + str(num_digits) + 'd}'\n",
    "        return '[' + fmt + '/' + fmt.format(num_batches) + ']'"
   ]
  },
  {
   "cell_type": "code",
   "execution_count": 70,
   "id": "00211030",
   "metadata": {
    "id": "00211030"
   },
   "outputs": [],
   "source": [
    "# if we are adjusting the LR manually use this\n",
    "def adjust_learning_rate(optimizer, epoch):\n",
    "    \"\"\"Sets the learning rate to the initial LR decayed by 10 every 30 epochs\"\"\"\n",
    "    lr = LR * (0.1 ** (epoch // 30))\n",
    "    for param_group in optimizer.param_groups:\n",
    "        param_group['lr'] = lr"
   ]
  },
  {
   "cell_type": "code",
   "execution_count": 71,
   "id": "da2c1382",
   "metadata": {
    "id": "da2c1382"
   },
   "outputs": [],
   "source": [
    "def accuracy(output, target, topk=(1,)):\n",
    "    \"\"\"Computes the accuracy over the k top predictions for the specified values of k\"\"\"\n",
    "    with torch.no_grad():\n",
    "        maxk = max(topk)\n",
    "        batch_size = target.size(0)\n",
    "\n",
    "        _, pred = output.topk(maxk, 1, True, True)\n",
    "        pred = pred.t()\n",
    "        correct = pred.eq(target.view(1, -1).expand_as(pred))\n",
    "\n",
    "        res = []\n",
    "        for k in topk:\n",
    "            correct_k = correct[:k].reshape(-1).float().sum(0, keepdim=True)\n",
    "            res.append(correct_k.mul_(100.0 / batch_size))\n",
    "        return res"
   ]
  },
  {
   "cell_type": "code",
   "execution_count": 72,
   "id": "5c29e7a1",
   "metadata": {
    "id": "5c29e7a1"
   },
   "outputs": [],
   "source": [
    "imagenet_mean_RGB = [0.47889522, 0.47227842, 0.43047404]\n",
    "imagenet_std_RGB = [0.24205776, 0.23828046, 0.25874835]"
   ]
  },
  {
   "cell_type": "code",
   "execution_count": 73,
   "id": "e1a61c02",
   "metadata": {
    "id": "e1a61c02"
   },
   "outputs": [],
   "source": [
    "normalize = transforms.Normalize(mean=imagenet_mean_RGB, std=imagenet_std_RGB)"
   ]
  },
  {
   "cell_type": "code",
   "execution_count": 74,
   "id": "47dd3e49",
   "metadata": {
    "id": "47dd3e49"
   },
   "outputs": [],
   "source": [
    "IMG_SIZE = 32\n",
    "NUM_CLASSES = 10\n",
    "# IMG_SIZE = 224"
   ]
  },
  {
   "cell_type": "markdown",
   "id": "de4387cb",
   "metadata": {
    "id": "de4387cb"
   },
   "source": [
    "### Initialize the model using the architecture you selected above"
   ]
  },
  {
   "cell_type": "code",
   "execution_count": 75,
   "id": "b1abcc33",
   "metadata": {
    "colab": {
     "base_uri": "https://localhost:8080/",
     "height": 158,
     "referenced_widgets": [
      "3ed3d41696734302b0a8c2bb5a9026cc",
      "4205c04d3e5c4244b144861a9263a322",
      "11839112304746f9a7fd76784958faa4",
      "ae70f8cd257b47cc9af26e1dc7c1ec38",
      "620dae24fc9e4be0b245c019bfb7f4c5",
      "dee11a91c86e4ca1a05b7cb62af41fee",
      "48c5147a2da546af988e4dea6703653a",
      "e952a4ef79f2406082f01c1ef44be20e",
      "e62345a5fe3244e3ad50cee5ff01ae93",
      "2a86b108d37548eba7e5042a00f6d63a",
      "2a592d63a5b24791ad351b5c911fac65"
     ]
    },
    "id": "b1abcc33",
    "outputId": "a35b9eae-97fa-4402-b2bb-c7330adaf1ba"
   },
   "outputs": [
    {
     "name": "stderr",
     "output_type": "stream",
     "text": [
      "/usr/local/lib/python3.8/dist-packages/torchvision/models/_utils.py:208: UserWarning: The parameter 'pretrained' is deprecated since 0.13 and may be removed in the future, please use 'weights' instead.\n",
      "  warnings.warn(\n",
      "/usr/local/lib/python3.8/dist-packages/torchvision/models/_utils.py:223: UserWarning: Arguments other than a weight enum or `None` for 'weights' are deprecated since 0.13 and may be removed in the future. The current behavior is equivalent to passing `weights=ResNet18_Weights.IMAGENET1K_V1`. You can also use `weights=ResNet18_Weights.DEFAULT` to get the most up-to-date weights.\n",
      "  warnings.warn(msg)\n",
      "Downloading: \"https://download.pytorch.org/models/resnet18-f37072fd.pth\" to /root/.cache/torch/hub/checkpoints/resnet18-f37072fd.pth\n"
     ]
    },
    {
     "data": {
      "application/vnd.jupyter.widget-view+json": {
       "model_id": "3ed3d41696734302b0a8c2bb5a9026cc",
       "version_major": 2,
       "version_minor": 0
      },
      "text/plain": [
       "  0%|          | 0.00/44.7M [00:00<?, ?B/s]"
      ]
     },
     "metadata": {},
     "output_type": "display_data"
    }
   ],
   "source": [
    "# select the model\n",
    "model = models.__dict__[ARCH]()"
   ]
  },
  {
   "cell_type": "code",
   "execution_count": null,
   "id": "89ff87fe",
   "metadata": {},
   "outputs": [],
   "source": [
    "inf = model.fc.in_features\n",
    "model.fc = nn.Linear(inf, NUM_CLASSES)"
   ]
  },
  {
   "cell_type": "markdown",
   "id": "2db1bb69",
   "metadata": {
    "id": "2db1bb69"
   },
   "source": [
    "### Send the model to the cuda device"
   ]
  },
  {
   "cell_type": "code",
   "execution_count": 76,
   "id": "7d23ccb4",
   "metadata": {
    "id": "7d23ccb4"
   },
   "outputs": [],
   "source": [
    "model.cuda(GPU)\n",
    "model = torch.nn.parallel.DistributedDataParallel(model, device_ids = [GPU])\n",
    "model = model.to(device)"
   ]
  },
  {
   "cell_type": "markdown",
   "id": "47a8eb8d",
   "metadata": {
    "id": "47a8eb8d"
   },
   "source": [
    "### Instantiate the loss to cross entropy"
   ]
  },
  {
   "cell_type": "code",
   "execution_count": 77,
   "id": "a49ae3c9",
   "metadata": {
    "id": "a49ae3c9"
   },
   "outputs": [],
   "source": [
    "# use the cross-entropy loss\n",
    "criterion = nn.CrossEntropyLoss().cuda(GPU)"
   ]
  },
  {
   "cell_type": "markdown",
   "id": "8a49045a",
   "metadata": {
    "id": "8a49045a"
   },
   "source": [
    "### Instantiate the optimizer to SGD"
   ]
  },
  {
   "cell_type": "code",
   "execution_count": 78,
   "id": "aa3a04dd",
   "metadata": {
    "id": "aa3a04dd"
   },
   "outputs": [],
   "source": [
    "# use SGD .. use the momentum and weight decay vars\n",
    "optimizer = torch.optim.SGD(model.parameters(), lr=LR, momentum=MOMENTUM, weight_decay=WEIGHT_DECAY)"
   ]
  },
  {
   "cell_type": "markdown",
   "id": "f93ef11d",
   "metadata": {
    "id": "f93ef11d"
   },
   "source": [
    "#### Create the learning rate scheduler"
   ]
  },
  {
   "cell_type": "code",
   "execution_count": 79,
   "id": "a0e1727a",
   "metadata": {
    "id": "a0e1727a"
   },
   "outputs": [],
   "source": [
    "# use CosineAnnealingLR\n",
    "scheduler = torch.optim.lr_scheduler.CosineAnnealingLR(optimizer, T_max=EPOCHS, eta_min=0.00001)"
   ]
  },
  {
   "cell_type": "code",
   "execution_count": 81,
   "id": "2fe08caa",
   "metadata": {
    "id": "2fe08caa"
   },
   "outputs": [],
   "source": [
    "transform_train = transforms.Compose([\n",
    "    transforms.RandomCrop(32, padding=4),\n",
    "    transforms.RandomHorizontalFlip(),\n",
    "    transforms.ToTensor(),\n",
    "    transforms.Normalize(cinic_mean_RGB, cinic_std_RGB),\n",
    "])"
   ]
  },
  {
   "cell_type": "markdown",
   "id": "236528e1",
   "metadata": {
    "id": "236528e1"
   },
   "source": [
    "### Create the train dataset object"
   ]
  },
  {
   "cell_type": "code",
   "execution_count": 83,
   "id": "7c29f6b1",
   "metadata": {
    "id": "7c29f6b1"
   },
   "outputs": [],
   "source": [
    "train_dataset = datasets.ImageFolder(root=TRAINDIR, \n",
    "                                     transform=transform_train)"
   ]
  },
  {
   "cell_type": "code",
   "execution_count": 84,
   "id": "63dfe3c0",
   "metadata": {
    "id": "63dfe3c0"
   },
   "outputs": [],
   "source": [
    "transform_val = transforms.Compose([\n",
    "    transforms.ToTensor(),\n",
    "    transforms.Normalize(cinic_mean_RGB, cinic_std_RGB),\n",
    "])"
   ]
  },
  {
   "cell_type": "markdown",
   "id": "38ca6c39",
   "metadata": {
    "id": "38ca6c39"
   },
   "source": [
    "### Create the val dataset object"
   ]
  },
  {
   "cell_type": "code",
   "execution_count": 85,
   "id": "42d58f82",
   "metadata": {
    "id": "42d58f82"
   },
   "outputs": [],
   "source": [
    "# use torchvision.datasets.CIFAR10\n",
    "# val_dataset = torchvision.datasets.CIFAR10(root='./data', train=False, download=True, transform=transform_val)\n",
    "val_dataset = datasets.ImageFolder(root=VALDIR, transform=transform_val)"
   ]
  },
  {
   "cell_type": "markdown",
   "id": "3a291660",
   "metadata": {
    "id": "3a291660"
   },
   "source": [
    "### Create the train dataloader"
   ]
  },
  {
   "cell_type": "code",
   "execution_count": 86,
   "id": "574373be",
   "metadata": {
    "id": "574373be"
   },
   "outputs": [],
   "source": [
    "# fill this in\n",
    "train_loader = torch.utils.data.DataLoader(train_dataset, \n",
    "                     batch_size=TRAIN_BATCH, \n",
    "                     shuffle=True, \n",
    "                     num_workers=WORKERS\n",
    "                     pin_memory=TRUE,\n",
    "                     sampler=torch.utils.data.distributed.DistributedSampler(train_dataset))"
   ]
  },
  {
   "cell_type": "code",
   "execution_count": 87,
   "id": "6aa623fe",
   "metadata": {
    "id": "6aa623fe"
   },
   "outputs": [],
   "source": [
    "# fill this in..\n",
    "val_loader = torch.utils.data.DataLoader(val_dataset, \n",
    "                            batch_size=VAL_BATCH,\n",
    "                            shuffle=False, \n",
    "                            num_workers=WORKERS,\n",
    "                            pin_membory=TRUE,\n",
    "                            sampler=None)"
   ]
  },
  {
   "cell_type": "code",
   "execution_count": 89,
   "id": "7cfa6766",
   "metadata": {
    "id": "7cfa6766"
   },
   "outputs": [],
   "source": [
    "best_acc1 = 0"
   ]
  },
  {
   "cell_type": "code",
   "execution_count": 90,
   "id": "0d0620a6",
   "metadata": {
    "colab": {
     "base_uri": "https://localhost:8080/"
    },
    "id": "0d0620a6",
    "outputId": "7b7f29f6-75c9-40cf-8430-9bec156609d3"
   },
   "outputs": [
    {
     "name": "stdout",
     "output_type": "stream",
     "text": [
      "Epoch: [0][  0/704]\tTime  0.620 ( 0.620)\tData  0.586 ( 0.586)\tLoss 1.7814e+00 (1.7814e+00)\tAcc@1  35.94 ( 35.94)\tAcc@5  84.38 ( 84.38)\n",
      "Epoch: [0][ 50/704]\tTime  0.232 ( 0.220)\tData  0.207 ( 0.185)\tLoss 1.7582e+00 (1.8286e+00)\tAcc@1  32.81 ( 30.70)\tAcc@5  86.72 ( 85.55)\n",
      "Epoch: [0][100/704]\tTime  0.101 ( 0.207)\tData  0.068 ( 0.175)\tLoss 1.9695e+00 (1.8057e+00)\tAcc@1  23.44 ( 31.37)\tAcc@5  83.59 ( 86.07)\n",
      "Epoch: [0][150/704]\tTime  0.040 ( 0.205)\tData  0.002 ( 0.171)\tLoss 1.6992e+00 (1.7974e+00)\tAcc@1  35.16 ( 31.88)\tAcc@5  85.94 ( 86.20)\n",
      "Epoch: [0][200/704]\tTime  0.043 ( 0.208)\tData  0.001 ( 0.173)\tLoss 1.7987e+00 (1.7864e+00)\tAcc@1  29.69 ( 32.44)\tAcc@5  82.81 ( 86.26)\n",
      "Epoch: [0][250/704]\tTime  0.047 ( 0.208)\tData  0.002 ( 0.172)\tLoss 1.6315e+00 (1.7794e+00)\tAcc@1  40.62 ( 32.85)\tAcc@5  91.41 ( 86.34)\n",
      "Epoch: [0][300/704]\tTime  0.066 ( 0.206)\tData  0.001 ( 0.170)\tLoss 1.7643e+00 (1.7735e+00)\tAcc@1  37.50 ( 33.16)\tAcc@5  89.06 ( 86.57)\n",
      "Epoch: [0][350/704]\tTime  0.048 ( 0.206)\tData  0.001 ( 0.169)\tLoss 1.7450e+00 (1.7650e+00)\tAcc@1  32.81 ( 33.72)\tAcc@5  86.72 ( 86.71)\n",
      "Epoch: [0][400/704]\tTime  0.051 ( 0.207)\tData  0.002 ( 0.170)\tLoss 1.6754e+00 (1.7567e+00)\tAcc@1  32.81 ( 34.04)\tAcc@5  89.84 ( 86.92)\n",
      "Epoch: [0][450/704]\tTime  0.041 ( 0.207)\tData  0.000 ( 0.170)\tLoss 1.6666e+00 (1.7534e+00)\tAcc@1  35.16 ( 34.26)\tAcc@5  87.50 ( 86.88)\n",
      "Epoch: [0][500/704]\tTime  0.097 ( 0.206)\tData  0.047 ( 0.169)\tLoss 1.5912e+00 (1.7450e+00)\tAcc@1  33.59 ( 34.58)\tAcc@5  88.28 ( 87.09)\n",
      "Epoch: [0][550/704]\tTime  0.168 ( 0.206)\tData  0.145 ( 0.170)\tLoss 1.7005e+00 (1.7399e+00)\tAcc@1  39.84 ( 34.78)\tAcc@5  86.72 ( 87.25)\n",
      "Epoch: [0][600/704]\tTime  0.049 ( 0.207)\tData  0.025 ( 0.170)\tLoss 1.7550e+00 (1.7360e+00)\tAcc@1  35.94 ( 34.98)\tAcc@5  89.06 ( 87.35)\n",
      "Epoch: [0][650/704]\tTime  0.042 ( 0.207)\tData  0.004 ( 0.171)\tLoss 1.7930e+00 (1.7318e+00)\tAcc@1  34.38 ( 35.17)\tAcc@5  87.50 ( 87.44)\n",
      "Epoch: [0][700/704]\tTime  0.158 ( 0.206)\tData  0.132 ( 0.171)\tLoss 1.6833e+00 (1.7258e+00)\tAcc@1  37.50 ( 35.43)\tAcc@5  90.62 ( 87.60)\n",
      "Test: [  0/704]\tTime  0.651 ( 0.651)\tLoss 2.8803e+00 (2.8803e+00)\tAcc@1  70.31 ( 70.31)\tAcc@5  88.28 ( 88.28)\n",
      "Test: [ 50/704]\tTime  0.269 ( 0.180)\tLoss 1.6862e+00 (2.3934e+00)\tAcc@1  65.62 ( 66.93)\tAcc@5  94.53 ( 93.67)\n",
      "Test: [100/704]\tTime  0.153 ( 0.181)\tLoss 1.9979e+00 (2.1827e+00)\tAcc@1  79.69 ( 69.07)\tAcc@5  97.66 ( 95.03)\n",
      "Test: [150/704]\tTime  0.164 ( 0.174)\tLoss 4.4068e+00 (2.1491e+00)\tAcc@1  13.28 ( 65.86)\tAcc@5  77.34 ( 94.19)\n",
      "Test: [200/704]\tTime  0.165 ( 0.176)\tLoss 4.4939e+00 (2.8012e+00)\tAcc@1  10.94 ( 51.87)\tAcc@5  79.69 ( 89.54)\n",
      "Test: [250/704]\tTime  0.036 ( 0.176)\tLoss 4.2571e+00 (3.0947e+00)\tAcc@1  11.72 ( 43.82)\tAcc@5  76.56 ( 86.88)\n",
      "Test: [300/704]\tTime  0.012 ( 0.173)\tLoss 7.6101e+00 (3.4281e+00)\tAcc@1   0.78 ( 37.52)\tAcc@5  51.56 ( 84.59)\n",
      "Test: [350/704]\tTime  0.012 ( 0.174)\tLoss 4.6244e+00 (3.8174e+00)\tAcc@1   0.00 ( 32.29)\tAcc@5  60.16 ( 81.00)\n",
      "Test: [400/704]\tTime  0.029 ( 0.173)\tLoss 5.7634e+00 (3.8720e+00)\tAcc@1  30.47 ( 32.46)\tAcc@5  86.72 ( 80.69)\n",
      "Test: [450/704]\tTime  0.012 ( 0.173)\tLoss 2.6120e+00 (3.8413e+00)\tAcc@1  67.97 ( 34.33)\tAcc@5  83.59 ( 80.65)\n",
      "Test: [500/704]\tTime  0.014 ( 0.174)\tLoss 3.5682e+00 (3.7332e+00)\tAcc@1  43.75 ( 37.67)\tAcc@5  82.03 ( 81.16)\n",
      "Test: [550/704]\tTime  0.014 ( 0.172)\tLoss 3.9151e+00 (3.7704e+00)\tAcc@1  38.28 ( 37.92)\tAcc@5  82.03 ( 80.97)\n",
      "Test: [600/704]\tTime  0.012 ( 0.173)\tLoss 2.6412e+00 (3.6886e+00)\tAcc@1  39.84 ( 37.61)\tAcc@5  85.16 ( 81.56)\n",
      "Test: [650/704]\tTime  0.013 ( 0.173)\tLoss 2.1158e+00 (3.5987e+00)\tAcc@1  14.06 ( 36.39)\tAcc@5  94.53 ( 82.32)\n",
      "Test: [700/704]\tTime  0.012 ( 0.173)\tLoss 1.8958e+00 (3.5052e+00)\tAcc@1   7.03 ( 34.39)\tAcc@5  96.88 ( 83.16)\n",
      " * Acc@1 34.301 Acc@5 83.191\n",
      "lr: [0.09938447858805392]\n",
      "Epoch: [1][  0/704]\tTime  0.639 ( 0.639)\tData  0.596 ( 0.596)\tLoss 1.7688e+00 (1.7688e+00)\tAcc@1  37.50 ( 37.50)\tAcc@5  85.16 ( 85.16)\n",
      "Epoch: [1][ 50/704]\tTime  0.039 ( 0.218)\tData  0.001 ( 0.178)\tLoss 1.7013e+00 (1.8801e+00)\tAcc@1  34.38 ( 31.28)\tAcc@5  90.62 ( 84.88)\n",
      "Epoch: [1][100/704]\tTime  0.055 ( 0.214)\tData  0.001 ( 0.172)\tLoss 1.6091e+00 (1.7903e+00)\tAcc@1  35.16 ( 33.62)\tAcc@5  95.31 ( 86.78)\n",
      "Epoch: [1][150/704]\tTime  0.032 ( 0.209)\tData  0.001 ( 0.168)\tLoss 1.5634e+00 (1.7533e+00)\tAcc@1  37.50 ( 34.91)\tAcc@5  90.62 ( 87.54)\n",
      "Epoch: [1][200/704]\tTime  0.044 ( 0.208)\tData  0.001 ( 0.167)\tLoss 1.7263e+00 (1.7295e+00)\tAcc@1  42.19 ( 36.16)\tAcc@5  91.41 ( 87.86)\n",
      "Epoch: [1][250/704]\tTime  0.043 ( 0.208)\tData  0.001 ( 0.167)\tLoss 1.9667e+00 (1.7083e+00)\tAcc@1  28.91 ( 36.83)\tAcc@5  83.59 ( 88.22)\n",
      "Epoch: [1][300/704]\tTime  0.045 ( 0.208)\tData  0.000 ( 0.168)\tLoss 1.5574e+00 (1.6890e+00)\tAcc@1  46.09 ( 37.44)\tAcc@5  92.19 ( 88.65)\n",
      "Epoch: [1][350/704]\tTime  0.062 ( 0.206)\tData  0.002 ( 0.166)\tLoss 1.5398e+00 (1.6692e+00)\tAcc@1  38.28 ( 38.12)\tAcc@5  89.84 ( 89.02)\n",
      "Epoch: [1][400/704]\tTime  0.047 ( 0.206)\tData  0.001 ( 0.165)\tLoss 1.6849e+00 (1.6579e+00)\tAcc@1  40.62 ( 38.53)\tAcc@5  90.62 ( 89.23)\n",
      "Epoch: [1][450/704]\tTime  0.040 ( 0.206)\tData  0.001 ( 0.165)\tLoss 1.4870e+00 (1.6487e+00)\tAcc@1  44.53 ( 38.95)\tAcc@5  88.28 ( 89.40)\n",
      "Epoch: [1][500/704]\tTime  0.145 ( 0.207)\tData  0.097 ( 0.166)\tLoss 1.5528e+00 (1.6394e+00)\tAcc@1  41.41 ( 39.40)\tAcc@5  94.53 ( 89.56)\n",
      "Epoch: [1][550/704]\tTime  0.334 ( 0.213)\tData  0.309 ( 0.173)\tLoss 1.5457e+00 (1.6258e+00)\tAcc@1  45.31 ( 39.99)\tAcc@5  91.41 ( 89.72)\n",
      "Epoch: [1][600/704]\tTime  0.314 ( 0.211)\tData  0.286 ( 0.171)\tLoss 1.4968e+00 (1.6173e+00)\tAcc@1  47.66 ( 40.27)\tAcc@5  91.41 ( 89.90)\n",
      "Epoch: [1][650/704]\tTime  0.312 ( 0.211)\tData  0.291 ( 0.171)\tLoss 1.2945e+00 (1.6093e+00)\tAcc@1  53.12 ( 40.60)\tAcc@5  98.44 ( 90.04)\n",
      "Epoch: [1][700/704]\tTime  0.290 ( 0.211)\tData  0.267 ( 0.171)\tLoss 1.4796e+00 (1.6041e+00)\tAcc@1  39.84 ( 40.77)\tAcc@5  94.53 ( 90.13)\n",
      "Test: [  0/704]\tTime  0.470 ( 0.470)\tLoss 1.6262e+00 (1.6262e+00)\tAcc@1  36.72 ( 36.72)\tAcc@5  93.75 ( 93.75)\n",
      "Test: [ 50/704]\tTime  0.422 ( 0.175)\tLoss 1.9206e+00 (1.7651e+00)\tAcc@1  22.66 ( 30.85)\tAcc@5  97.66 ( 94.06)\n",
      "Test: [100/704]\tTime  0.211 ( 0.167)\tLoss 7.0153e-01 (1.5043e+00)\tAcc@1  75.78 ( 41.10)\tAcc@5  97.66 ( 95.27)\n",
      "Test: [150/704]\tTime  0.277 ( 0.173)\tLoss 1.5308e+00 (1.3733e+00)\tAcc@1  44.53 ( 47.46)\tAcc@5  98.44 ( 95.53)\n",
      "Test: [200/704]\tTime  0.280 ( 0.168)\tLoss 1.4777e+00 (1.4338e+00)\tAcc@1  46.88 ( 46.81)\tAcc@5  98.44 ( 96.06)\n",
      "Test: [250/704]\tTime  0.280 ( 0.171)\tLoss 2.2918e+00 (1.5692e+00)\tAcc@1   4.69 ( 40.16)\tAcc@5  82.03 ( 93.93)\n",
      "Test: [300/704]\tTime  0.372 ( 0.170)\tLoss 2.2642e+00 (1.6430e+00)\tAcc@1  10.94 ( 36.37)\tAcc@5  84.38 ( 93.22)\n",
      "Test: [350/704]\tTime  0.276 ( 0.169)\tLoss 1.7847e+00 (1.6716e+00)\tAcc@1  28.12 ( 35.65)\tAcc@5  92.97 ( 92.81)\n",
      "Test: [400/704]\tTime  0.326 ( 0.170)\tLoss 1.4981e+00 (1.6729e+00)\tAcc@1  53.91 ( 37.03)\tAcc@5  92.19 ( 92.41)\n",
      "Test: [450/704]\tTime  0.331 ( 0.168)\tLoss 1.5924e+00 (1.6869e+00)\tAcc@1  57.03 ( 37.39)\tAcc@5  84.38 ( 91.41)\n",
      "Test: [500/704]\tTime  0.277 ( 0.170)\tLoss 1.3006e+00 (1.6864e+00)\tAcc@1  57.03 ( 38.56)\tAcc@5  85.94 ( 90.33)\n",
      "Test: [550/704]\tTime  0.284 ( 0.170)\tLoss 1.4789e+00 (1.6653e+00)\tAcc@1  59.38 ( 40.10)\tAcc@5  88.28 ( 89.91)\n",
      "Test: [600/704]\tTime  0.259 ( 0.169)\tLoss 1.0380e+00 (1.6116e+00)\tAcc@1  69.53 ( 42.59)\tAcc@5  94.53 ( 90.16)\n",
      "Test: [650/704]\tTime  0.285 ( 0.169)\tLoss 1.0754e+00 (1.5628e+00)\tAcc@1  56.25 ( 44.56)\tAcc@5  93.75 ( 90.52)\n",
      "Test: [700/704]\tTime  0.329 ( 0.168)\tLoss 1.2452e+00 (1.5409e+00)\tAcc@1  35.94 ( 44.41)\tAcc@5  96.88 ( 90.79)\n",
      " * Acc@1 44.391 Acc@5 90.808\n",
      "lr: [0.09755307053217623]\n",
      "Epoch: [2][  0/704]\tTime  0.832 ( 0.832)\tData  0.774 ( 0.774)\tLoss 1.5989e+00 (1.5989e+00)\tAcc@1  40.62 ( 40.62)\tAcc@5  89.84 ( 89.84)\n",
      "Epoch: [2][ 50/704]\tTime  0.203 ( 0.204)\tData  0.176 ( 0.174)\tLoss 1.4618e+00 (1.5355e+00)\tAcc@1  46.09 ( 43.38)\tAcc@5  86.72 ( 91.30)\n",
      "Epoch: [2][100/704]\tTime  0.041 ( 0.205)\tData  0.001 ( 0.172)\tLoss 1.3732e+00 (1.4971e+00)\tAcc@1  49.22 ( 44.75)\tAcc@5  95.31 ( 91.85)\n",
      "Epoch: [2][150/704]\tTime  0.039 ( 0.207)\tData  0.001 ( 0.172)\tLoss 1.4841e+00 (1.4988e+00)\tAcc@1  41.41 ( 44.86)\tAcc@5  93.75 ( 91.78)\n",
      "Epoch: [2][200/704]\tTime  0.070 ( 0.204)\tData  0.001 ( 0.168)\tLoss 1.6444e+00 (1.4983e+00)\tAcc@1  47.66 ( 44.83)\tAcc@5  87.50 ( 91.92)\n",
      "Epoch: [2][250/704]\tTime  0.043 ( 0.202)\tData  0.001 ( 0.165)\tLoss 1.4243e+00 (1.4897e+00)\tAcc@1  48.44 ( 45.14)\tAcc@5  94.53 ( 92.08)\n",
      "Epoch: [2][300/704]\tTime  0.044 ( 0.203)\tData  0.000 ( 0.165)\tLoss 1.3254e+00 (1.4830e+00)\tAcc@1  50.78 ( 45.46)\tAcc@5  95.31 ( 92.16)\n",
      "Epoch: [2][350/704]\tTime  0.032 ( 0.203)\tData  0.002 ( 0.165)\tLoss 1.5606e+00 (1.4794e+00)\tAcc@1  42.97 ( 45.64)\tAcc@5  89.84 ( 92.11)\n",
      "Epoch: [2][400/704]\tTime  0.046 ( 0.201)\tData  0.001 ( 0.164)\tLoss 1.4336e+00 (1.4760e+00)\tAcc@1  46.09 ( 45.86)\tAcc@5  92.97 ( 92.20)\n",
      "Epoch: [2][450/704]\tTime  0.313 ( 0.203)\tData  0.262 ( 0.165)\tLoss 1.6065e+00 (1.4758e+00)\tAcc@1  42.97 ( 45.84)\tAcc@5  90.62 ( 92.16)\n",
      "Epoch: [2][500/704]\tTime  0.089 ( 0.203)\tData  0.053 ( 0.166)\tLoss 1.5297e+00 (1.4747e+00)\tAcc@1  42.97 ( 45.90)\tAcc@5  91.41 ( 92.18)\n",
      "Epoch: [2][550/704]\tTime  0.063 ( 0.203)\tData  0.004 ( 0.166)\tLoss 1.5289e+00 (1.4746e+00)\tAcc@1  45.31 ( 45.88)\tAcc@5  92.19 ( 92.13)\n",
      "Epoch: [2][600/704]\tTime  0.045 ( 0.202)\tData  0.001 ( 0.166)\tLoss 1.4827e+00 (1.4738e+00)\tAcc@1  42.97 ( 45.92)\tAcc@5  93.75 ( 92.14)\n",
      "Epoch: [2][650/704]\tTime  0.050 ( 0.202)\tData  0.002 ( 0.165)\tLoss 1.3930e+00 (1.4705e+00)\tAcc@1  52.34 ( 46.03)\tAcc@5  89.84 ( 92.20)\n",
      "Epoch: [2][700/704]\tTime  0.087 ( 0.202)\tData  0.059 ( 0.166)\tLoss 1.4426e+00 (1.4679e+00)\tAcc@1  46.09 ( 46.06)\tAcc@5  90.62 ( 92.25)\n",
      "Test: [  0/704]\tTime  0.438 ( 0.438)\tLoss 1.0440e+00 (1.0440e+00)\tAcc@1  63.28 ( 63.28)\tAcc@5  92.97 ( 92.97)\n",
      "Test: [ 50/704]\tTime  0.229 ( 0.167)\tLoss 1.0500e+00 (1.0744e+00)\tAcc@1  62.50 ( 62.97)\tAcc@5  93.75 ( 93.03)\n",
      "Test: [100/704]\tTime  0.269 ( 0.170)\tLoss 8.0716e-01 (1.0613e+00)\tAcc@1  79.69 ( 65.35)\tAcc@5  94.53 ( 92.74)\n",
      "Test: [150/704]\tTime  0.296 ( 0.172)\tLoss 8.3406e-01 (1.1311e+00)\tAcc@1  80.47 ( 64.67)\tAcc@5  99.22 ( 91.33)\n",
      "Test: [200/704]\tTime  0.298 ( 0.168)\tLoss 6.7430e-01 (1.0837e+00)\tAcc@1  86.72 ( 66.06)\tAcc@5 100.00 ( 93.16)\n",
      "Test: [250/704]\tTime  0.281 ( 0.170)\tLoss 1.9171e+00 (1.2068e+00)\tAcc@1  27.34 ( 60.56)\tAcc@5  92.97 ( 93.49)\n",
      "Test: [300/704]\tTime  0.358 ( 0.169)\tLoss 1.5838e+00 (1.3111e+00)\tAcc@1  30.47 ( 54.94)\tAcc@5  99.22 ( 94.21)\n",
      "Test: [350/704]\tTime  0.271 ( 0.168)\tLoss 1.5329e+00 (1.3378e+00)\tAcc@1  32.81 ( 52.20)\tAcc@5  99.22 ( 94.94)\n",
      "Test: [400/704]\tTime  0.274 ( 0.170)\tLoss 1.9042e+00 (1.4151e+00)\tAcc@1  12.50 ( 47.81)\tAcc@5  96.09 ( 94.72)\n",
      "Test: [450/704]\tTime  0.282 ( 0.168)\tLoss 1.5355e+00 (1.4653e+00)\tAcc@1  46.88 ( 45.63)\tAcc@5  94.53 ( 94.37)\n",
      "Test: [500/704]\tTime  0.194 ( 0.168)\tLoss 1.3567e+00 (1.4780e+00)\tAcc@1  54.69 ( 45.47)\tAcc@5  85.94 ( 93.78)\n",
      "Test: [550/704]\tTime  0.248 ( 0.168)\tLoss 1.2856e+00 (1.4600e+00)\tAcc@1  58.59 ( 46.46)\tAcc@5  89.06 ( 93.49)\n",
      "Test: [600/704]\tTime  0.065 ( 0.168)\tLoss 1.3837e+00 (1.4449e+00)\tAcc@1  54.69 ( 47.57)\tAcc@5  92.19 ( 93.21)\n",
      "Test: [650/704]\tTime  0.215 ( 0.169)\tLoss 1.3779e+00 (1.4395e+00)\tAcc@1  47.66 ( 47.96)\tAcc@5  90.62 ( 92.96)\n",
      "Test: [700/704]\tTime  0.139 ( 0.167)\tLoss 1.6910e+00 (1.4587e+00)\tAcc@1  22.66 ( 46.89)\tAcc@5  89.06 ( 92.44)\n",
      " * Acc@1 46.818 Acc@5 92.436\n",
      "lr: [0.09455087117679747]\n",
      "Epoch: [3][  0/704]\tTime  0.719 ( 0.719)\tData  0.647 ( 0.647)\tLoss 1.4286e+00 (1.4286e+00)\tAcc@1  44.53 ( 44.53)\tAcc@5  93.75 ( 93.75)\n",
      "Epoch: [3][ 50/704]\tTime  0.375 ( 0.220)\tData  0.343 ( 0.178)\tLoss 1.6081e+00 (1.4522e+00)\tAcc@1  44.53 ( 46.91)\tAcc@5  92.97 ( 92.20)\n",
      "Epoch: [3][100/704]\tTime  0.309 ( 0.211)\tData  0.281 ( 0.171)\tLoss 1.4100e+00 (1.4533e+00)\tAcc@1  48.44 ( 46.67)\tAcc@5  92.19 ( 92.11)\n",
      "Epoch: [3][150/704]\tTime  0.372 ( 0.209)\tData  0.299 ( 0.172)\tLoss 1.3655e+00 (1.4389e+00)\tAcc@1  50.78 ( 46.99)\tAcc@5  93.75 ( 92.59)\n",
      "Epoch: [3][200/704]\tTime  0.200 ( 0.204)\tData  0.175 ( 0.169)\tLoss 1.4226e+00 (1.4321e+00)\tAcc@1  47.66 ( 47.33)\tAcc@5  92.97 ( 92.66)\n",
      "Epoch: [3][250/704]\tTime  0.191 ( 0.205)\tData  0.163 ( 0.170)\tLoss 1.4358e+00 (1.4281e+00)\tAcc@1  44.53 ( 47.50)\tAcc@5  92.97 ( 92.68)\n",
      "Epoch: [3][300/704]\tTime  0.243 ( 0.205)\tData  0.215 ( 0.171)\tLoss 1.3894e+00 (1.4255e+00)\tAcc@1  46.88 ( 47.60)\tAcc@5  92.19 ( 92.76)\n",
      "Epoch: [3][350/704]\tTime  0.378 ( 0.205)\tData  0.335 ( 0.171)\tLoss 1.4096e+00 (1.4210e+00)\tAcc@1  49.22 ( 47.79)\tAcc@5  92.19 ( 92.78)\n",
      "Epoch: [3][400/704]\tTime  0.184 ( 0.203)\tData  0.162 ( 0.169)\tLoss 1.4557e+00 (1.4184e+00)\tAcc@1  44.53 ( 47.84)\tAcc@5  91.41 ( 92.81)\n",
      "Epoch: [3][450/704]\tTime  0.155 ( 0.204)\tData  0.129 ( 0.170)\tLoss 1.3517e+00 (1.4175e+00)\tAcc@1  53.12 ( 48.04)\tAcc@5  92.97 ( 92.77)\n",
      "Epoch: [3][500/704]\tTime  0.047 ( 0.204)\tData  0.001 ( 0.170)\tLoss 1.3814e+00 (1.4125e+00)\tAcc@1  50.78 ( 48.26)\tAcc@5  94.53 ( 92.89)\n",
      "Epoch: [3][550/704]\tTime  0.047 ( 0.202)\tData  0.001 ( 0.168)\tLoss 1.4659e+00 (1.4116e+00)\tAcc@1  46.09 ( 48.34)\tAcc@5  89.06 ( 92.88)\n",
      "Epoch: [3][600/704]\tTime  0.046 ( 0.203)\tData  0.001 ( 0.168)\tLoss 1.4465e+00 (1.4101e+00)\tAcc@1  47.66 ( 48.40)\tAcc@5  92.19 ( 92.90)\n",
      "Epoch: [3][650/704]\tTime  0.041 ( 0.204)\tData  0.001 ( 0.168)\tLoss 1.3327e+00 (1.4094e+00)\tAcc@1  55.47 ( 48.50)\tAcc@5  93.75 ( 92.89)\n",
      "Epoch: [3][700/704]\tTime  0.053 ( 0.203)\tData  0.000 ( 0.168)\tLoss 1.4595e+00 (1.4077e+00)\tAcc@1  46.88 ( 48.55)\tAcc@5  96.09 ( 92.92)\n",
      "Test: [  0/704]\tTime  0.450 ( 0.450)\tLoss 1.0300e+00 (1.0300e+00)\tAcc@1  62.50 ( 62.50)\tAcc@5  92.97 ( 92.97)\n",
      "Test: [ 50/704]\tTime  0.199 ( 0.160)\tLoss 1.0883e+00 (1.1267e+00)\tAcc@1  55.47 ( 58.04)\tAcc@5  96.09 ( 93.87)\n",
      "Test: [100/704]\tTime  0.183 ( 0.168)\tLoss 8.0688e-01 (1.1125e+00)\tAcc@1  71.88 ( 60.30)\tAcc@5  96.88 ( 94.08)\n",
      "Test: [150/704]\tTime  0.391 ( 0.168)\tLoss 1.0607e+00 (1.1587e+00)\tAcc@1  66.41 ( 60.16)\tAcc@5  98.44 ( 93.47)\n",
      "Test: [200/704]\tTime  0.309 ( 0.168)\tLoss 1.3447e+00 (1.2190e+00)\tAcc@1  47.66 ( 57.01)\tAcc@5  99.22 ( 94.34)\n",
      "Test: [250/704]\tTime  0.280 ( 0.169)\tLoss 1.8046e+00 (1.2910e+00)\tAcc@1  30.47 ( 53.26)\tAcc@5  94.53 ( 94.84)\n",
      "Test: [300/704]\tTime  0.264 ( 0.168)\tLoss 2.1503e+00 (1.3854e+00)\tAcc@1  16.41 ( 49.24)\tAcc@5  94.53 ( 95.10)\n",
      "Test: [350/704]\tTime  0.386 ( 0.169)\tLoss 1.7596e+00 (1.4754e+00)\tAcc@1  32.03 ( 46.30)\tAcc@5  97.66 ( 94.91)\n",
      "Test: [400/704]\tTime  0.433 ( 0.169)\tLoss 1.8518e+00 (1.5053e+00)\tAcc@1  27.34 ( 44.64)\tAcc@5  99.22 ( 95.16)\n",
      "Test: [450/704]\tTime  0.290 ( 0.168)\tLoss 6.9313e-01 (1.4892e+00)\tAcc@1  79.69 ( 45.47)\tAcc@5  96.88 ( 95.32)\n",
      "Test: [500/704]\tTime  0.319 ( 0.169)\tLoss 1.9983e+00 (1.4305e+00)\tAcc@1  37.50 ( 48.12)\tAcc@5  71.09 ( 95.16)\n",
      "Test: [550/704]\tTime  0.283 ( 0.167)\tLoss 1.7801e+00 (1.4709e+00)\tAcc@1  46.88 ( 47.55)\tAcc@5  80.47 ( 93.46)\n",
      "Test: [600/704]\tTime  0.193 ( 0.167)\tLoss 1.2303e+00 (1.4406e+00)\tAcc@1  67.19 ( 49.09)\tAcc@5  87.50 ( 93.17)\n",
      "Test: [650/704]\tTime  0.382 ( 0.168)\tLoss 1.3316e+00 (1.4222e+00)\tAcc@1  51.56 ( 49.98)\tAcc@5  92.19 ( 93.01)\n",
      "Test: [700/704]\tTime  0.225 ( 0.167)\tLoss 1.7214e+00 (1.4414e+00)\tAcc@1  27.34 ( 49.02)\tAcc@5  91.41 ( 92.70)\n",
      " * Acc@1 48.956 Acc@5 92.699\n",
      "lr: [0.09045180463377553]\n",
      "Epoch: [4][  0/704]\tTime  0.674 ( 0.674)\tData  0.632 ( 0.632)\tLoss 1.4474e+00 (1.4474e+00)\tAcc@1  46.88 ( 46.88)\tAcc@5  94.53 ( 94.53)\n",
      "Epoch: [4][ 50/704]\tTime  0.329 ( 0.219)\tData  0.306 ( 0.178)\tLoss 1.5262e+00 (1.4045e+00)\tAcc@1  45.31 ( 49.02)\tAcc@5  91.41 ( 92.85)\n",
      "Epoch: [4][100/704]\tTime  0.459 ( 0.213)\tData  0.436 ( 0.172)\tLoss 1.5781e+00 (1.3901e+00)\tAcc@1  38.28 ( 49.61)\tAcc@5  90.62 ( 92.86)\n",
      "Epoch: [4][150/704]\tTime  0.445 ( 0.204)\tData  0.386 ( 0.165)\tLoss 1.2544e+00 (1.3814e+00)\tAcc@1  55.47 ( 49.96)\tAcc@5  96.88 ( 92.99)\n",
      "Epoch: [4][200/704]\tTime  0.416 ( 0.204)\tData  0.365 ( 0.166)\tLoss 1.3283e+00 (1.3798e+00)\tAcc@1  56.25 ( 50.08)\tAcc@5  96.09 ( 93.12)\n",
      "Epoch: [4][250/704]\tTime  0.383 ( 0.204)\tData  0.355 ( 0.165)\tLoss 1.3324e+00 (1.3765e+00)\tAcc@1  53.12 ( 50.34)\tAcc@5  91.41 ( 93.15)\n",
      "Epoch: [4][300/704]\tTime  0.418 ( 0.204)\tData  0.362 ( 0.165)\tLoss 1.4222e+00 (1.3698e+00)\tAcc@1  46.88 ( 50.52)\tAcc@5  91.41 ( 93.33)\n",
      "Epoch: [4][350/704]\tTime  0.275 ( 0.201)\tData  0.251 ( 0.163)\tLoss 1.3640e+00 (1.3694e+00)\tAcc@1  50.00 ( 50.44)\tAcc@5  93.75 ( 93.35)\n",
      "Epoch: [4][400/704]\tTime  0.325 ( 0.202)\tData  0.302 ( 0.164)\tLoss 1.2304e+00 (1.3700e+00)\tAcc@1  57.03 ( 50.41)\tAcc@5  95.31 ( 93.31)\n",
      "Epoch: [4][450/704]\tTime  0.309 ( 0.202)\tData  0.287 ( 0.164)\tLoss 1.2322e+00 (1.3673e+00)\tAcc@1  53.91 ( 50.49)\tAcc@5  94.53 ( 93.33)\n",
      "Epoch: [4][500/704]\tTime  0.402 ( 0.201)\tData  0.366 ( 0.163)\tLoss 1.2480e+00 (1.3635e+00)\tAcc@1  59.38 ( 50.67)\tAcc@5  92.97 ( 93.38)\n",
      "Epoch: [4][550/704]\tTime  0.368 ( 0.201)\tData  0.343 ( 0.163)\tLoss 1.3562e+00 (1.3600e+00)\tAcc@1  52.34 ( 50.76)\tAcc@5  90.62 ( 93.41)\n",
      "Epoch: [4][600/704]\tTime  0.423 ( 0.201)\tData  0.395 ( 0.163)\tLoss 1.5777e+00 (1.3590e+00)\tAcc@1  46.09 ( 50.81)\tAcc@5  91.41 ( 93.43)\n",
      "Epoch: [4][650/704]\tTime  0.372 ( 0.202)\tData  0.339 ( 0.163)\tLoss 1.2889e+00 (1.3576e+00)\tAcc@1  54.69 ( 50.93)\tAcc@5  92.19 ( 93.42)\n",
      "Epoch: [4][700/704]\tTime  0.266 ( 0.200)\tData  0.243 ( 0.162)\tLoss 1.3675e+00 (1.3542e+00)\tAcc@1  53.91 ( 51.05)\tAcc@5  92.97 ( 93.44)\n",
      "Test: [  0/704]\tTime  0.464 ( 0.464)\tLoss 5.9192e-01 (5.9192e-01)\tAcc@1  80.47 ( 80.47)\tAcc@5  98.44 ( 98.44)\n",
      "Test: [ 50/704]\tTime  0.131 ( 0.179)\tLoss 5.4562e-01 (6.4321e-01)\tAcc@1  83.59 ( 77.73)\tAcc@5  97.66 ( 96.81)\n",
      "Test: [100/704]\tTime  0.121 ( 0.176)\tLoss 6.7646e-01 (6.9586e-01)\tAcc@1  78.12 ( 76.24)\tAcc@5  97.66 ( 96.96)\n",
      "Test: [150/704]\tTime  0.029 ( 0.169)\tLoss 1.1075e+00 (8.2391e-01)\tAcc@1  63.28 ( 71.93)\tAcc@5  97.66 ( 96.22)\n",
      "Test: [200/704]\tTime  0.013 ( 0.171)\tLoss 1.2669e+00 (9.3527e-01)\tAcc@1  56.25 ( 67.90)\tAcc@5  98.44 ( 96.32)\n",
      "Test: [250/704]\tTime  0.023 ( 0.168)\tLoss 2.1937e+00 (1.1269e+00)\tAcc@1  12.50 ( 58.87)\tAcc@5  84.38 ( 95.50)\n",
      "Test: [300/704]\tTime  0.012 ( 0.169)\tLoss 1.6542e+00 (1.2537e+00)\tAcc@1  35.94 ( 53.61)\tAcc@5  96.09 ( 95.20)\n",
      "Test: [350/704]\tTime  0.027 ( 0.169)\tLoss 1.5459e+00 (1.2872e+00)\tAcc@1  39.84 ( 52.73)\tAcc@5  97.66 ( 95.52)\n",
      "Test: [400/704]\tTime  0.012 ( 0.168)\tLoss 1.7184e+00 (1.3372e+00)\tAcc@1  34.38 ( 50.68)\tAcc@5  98.44 ( 95.38)\n",
      "Test: [450/704]\tTime  0.016 ( 0.168)\tLoss 7.3637e-01 (1.3335e+00)\tAcc@1  80.47 ( 50.86)\tAcc@5  94.53 ( 95.30)\n",
      "Test: [500/704]\tTime  0.015 ( 0.166)\tLoss 1.5584e+00 (1.2962e+00)\tAcc@1  53.12 ( 52.88)\tAcc@5  81.25 ( 94.99)\n",
      "Test: [550/704]\tTime  0.013 ( 0.167)\tLoss 1.8213e+00 (1.3288e+00)\tAcc@1  44.53 ( 52.21)\tAcc@5  75.00 ( 93.78)\n",
      "Test: [600/704]\tTime  0.026 ( 0.167)\tLoss 1.1369e+00 (1.3081e+00)\tAcc@1  64.06 ( 53.16)\tAcc@5  94.53 ( 93.71)\n",
      "Test: [650/704]\tTime  0.166 ( 0.166)\tLoss 1.4215e+00 (1.2943e+00)\tAcc@1  48.44 ( 53.68)\tAcc@5  92.19 ( 93.83)\n",
      "Test: [700/704]\tTime  0.301 ( 0.167)\tLoss 1.8728e+00 (1.3371e+00)\tAcc@1  23.44 ( 52.00)\tAcc@5  95.31 ( 93.60)\n",
      " * Acc@1 51.909 Acc@5 93.609\n",
      "lr: [0.08535680352542147]\n"
     ]
    }
   ],
   "source": [
    "%%time\n",
    "\n",
    "# create TensorBoard summary writer\n",
    "writer = SummaryWriter()\n",
    "\n",
    "for epoch in range(START_EPOCH, EPOCHS):\n",
    "#    adjust_learning_rate(optimizer, epoch)\n",
    "\n",
    "    # train for one epoch\n",
    "    train(train_loader, model, criterion, optimizer, epoch)\n",
    "\n",
    "    # evaluate on validation set\n",
    "    acc1 = validate(val_loader, model, criterion)\n",
    "\n",
    "    # remember best acc@1 and save checkpoint\n",
    "    is_best = acc1 > best_acc1\n",
    "    best_acc1 = max(acc1, best_acc1)\n",
    "\n",
    "\n",
    "    if RANK == 0:\n",
    "        save_checkpoint({\n",
    "            'epoch': epoch + 1,\n",
    "            'arch': ARCH,\n",
    "            'state_dict': model.state_dict(),\n",
    "            'best_acc1': best_acc1,\n",
    "            'optimizer' : optimizer.state_dict(),\n",
    "        }, is_best)\n",
    "    \n",
    "    scheduler.step()\n",
    "    print('lr: ' + str(scheduler.get_last_lr()))\n",
    "    \n",
    "    # write to TensorBoard\n",
    "    writer.add_scalar('Training Loss', train_loss, epoch)\n",
    "    writer.add_scalar('Validation Accuracy', acc1, epoch)\n",
    "    \n",
    "# close TensorBoard writer\n",
    "writer.close()"
   ]
  },
  {
   "cell_type": "code",
   "execution_count": 91,
   "id": "45c4cb64",
   "metadata": {
    "colab": {
     "base_uri": "https://localhost:8080/",
     "height": 295
    },
    "id": "45c4cb64",
    "outputId": "996942c0-1c50-4d8f-d0a6-481c3de7200e"
   },
   "outputs": [
    {
     "data": {
      "image/png": "[encoded data removed]",
      "text/plain": [
       "<Figure size 432x288 with 1 Axes>"
      ]
     },
     "metadata": {
      "needs_background": "light"
     },
     "output_type": "display_data"
    }
   ],
   "source": [
    "import matplotlib.pyplot as plt\n",
    "\n",
    "plt.plot(epochs, results)\n",
    "plt.xlabel('Epochs')\n",
    "plt.ylabel('Performance')\n",
    "plt.title('Line Plot')\n",
    "plt.show()"
   ]
  }
 ],
 "metadata": {
  "accelerator": "GPU",
  "colab": {
   "provenance": []
  },
  "gpuClass": "standard",
  "kernelspec": {
   "display_name": "Python 3 (ipykernel)",
   "language": "python",
   "name": "python3"
  },
  "language_info": {
   "codemirror_mode": {
    "name": "ipython",
    "version": 3
   },
   "file_extension": ".py",
   "mimetype": "text/x-python",
   "name": "python",
   "nbconvert_exporter": "python",
   "pygments_lexer": "ipython3",
   "version": "3.10.5"
  },
  "widgets": {
   "application/vnd.jupyter.widget-state+json": {
    "11839112304746f9a7fd76784958faa4": {
     "model_module": "@jupyter-widgets/controls",
     "model_module_version": "1.5.0",
     "model_name": "FloatProgressModel",
     "state": {
      "_dom_classes": [],
      "_model_module": "@jupyter-widgets/controls",
      "_model_module_version": "1.5.0",
      "_model_name": "FloatProgressModel",
      "_view_count": null,
      "_view_module": "@jupyter-widgets/controls",
      "_view_module_version": "1.5.0",
      "_view_name": "ProgressView",
      "bar_style": "success",
      "description": "",
      "description_tooltip": null,
      "layout": "IPY_MODEL_e952a4ef79f2406082f01c1ef44be20e",
      "max": 46830571,
      "min": 0,
      "orientation": "horizontal",
      "style": "IPY_MODEL_e62345a5fe3244e3ad50cee5ff01ae93",
      "value": 46830571
     }
    },
    "2a592d63a5b24791ad351b5c911fac65": {
     "model_module": "@jupyter-widgets/controls",
     "model_module_version": "1.5.0",
     "model_name": "DescriptionStyleModel",
     "state": {
      "_model_module": "@jupyter-widgets/controls",
      "_model_module_version": "1.5.0",
      "_model_name": "DescriptionStyleModel",
      "_view_count": null,
      "_view_module": "@jupyter-widgets/base",
      "_view_module_version": "1.2.0",
      "_view_name": "StyleView",
      "description_width": ""
     }
    },
    "2a86b108d37548eba7e5042a00f6d63a": {
     "model_module": "@jupyter-widgets/base",
     "model_module_version": "1.2.0",
     "model_name": "LayoutModel",
     "state": {
      "_model_module": "@jupyter-widgets/base",
      "_model_module_version": "1.2.0",
      "_model_name": "LayoutModel",
      "_view_count": null,
      "_view_module": "@jupyter-widgets/base",
      "_view_module_version": "1.2.0",
      "_view_name": "LayoutView",
      "align_content": null,
      "align_items": null,
      "align_self": null,
      "border": null,
      "bottom": null,
      "display": null,
      "flex": null,
      "flex_flow": null,
      "grid_area": null,
      "grid_auto_columns": null,
      "grid_auto_flow": null,
      "grid_auto_rows": null,
      "grid_column": null,
      "grid_gap": null,
      "grid_row": null,
      "grid_template_areas": null,
      "grid_template_columns": null,
      "grid_template_rows": null,
      "height": null,
      "justify_content": null,
      "justify_items": null,
      "left": null,
      "margin": null,
      "max_height": null,
      "max_width": null,
      "min_height": null,
      "min_width": null,
      "object_fit": null,
      "object_position": null,
      "order": null,
      "overflow": null,
      "overflow_x": null,
      "overflow_y": null,
      "padding": null,
      "right": null,
      "top": null,
      "visibility": null,
      "width": null
     }
    },
    "3ed3d41696734302b0a8c2bb5a9026cc": {
     "model_module": "@jupyter-widgets/controls",
     "model_module_version": "1.5.0",
     "model_name": "HBoxModel",
     "state": {
      "_dom_classes": [],
      "_model_module": "@jupyter-widgets/controls",
      "_model_module_version": "1.5.0",
      "_model_name": "HBoxModel",
      "_view_count": null,
      "_view_module": "@jupyter-widgets/controls",
      "_view_module_version": "1.5.0",
      "_view_name": "HBoxView",
      "box_style": "",
      "children": [
       "IPY_MODEL_4205c04d3e5c4244b144861a9263a322",
       "IPY_MODEL_11839112304746f9a7fd76784958faa4",
       "IPY_MODEL_ae70f8cd257b47cc9af26e1dc7c1ec38"
      ],
      "layout": "IPY_MODEL_620dae24fc9e4be0b245c019bfb7f4c5"
     }
    },
    "4205c04d3e5c4244b144861a9263a322": {
     "model_module": "@jupyter-widgets/controls",
     "model_module_version": "1.5.0",
     "model_name": "HTMLModel",
     "state": {
      "_dom_classes": [],
      "_model_module": "@jupyter-widgets/controls",
      "_model_module_version": "1.5.0",
      "_model_name": "HTMLModel",
      "_view_count": null,
      "_view_module": "@jupyter-widgets/controls",
      "_view_module_version": "1.5.0",
      "_view_name": "HTMLView",
      "description": "",
      "description_tooltip": null,
      "layout": "IPY_MODEL_dee11a91c86e4ca1a05b7cb62af41fee",
      "placeholder": "​",
      "style": "IPY_MODEL_48c5147a2da546af988e4dea6703653a",
      "value": "100%"
     }
    },
    "48c5147a2da546af988e4dea6703653a": {
     "model_module": "@jupyter-widgets/controls",
     "model_module_version": "1.5.0",
     "model_name": "DescriptionStyleModel",
     "state": {
      "_model_module": "@jupyter-widgets/controls",
      "_model_module_version": "1.5.0",
      "_model_name": "DescriptionStyleModel",
      "_view_count": null,
      "_view_module": "@jupyter-widgets/base",
      "_view_module_version": "1.2.0",
      "_view_name": "StyleView",
      "description_width": ""
     }
    },
    "620dae24fc9e4be0b245c019bfb7f4c5": {
     "model_module": "@jupyter-widgets/base",
     "model_module_version": "1.2.0",
     "model_name": "LayoutModel",
     "state": {
      "_model_module": "@jupyter-widgets/base",
      "_model_module_version": "1.2.0",
      "_model_name": "LayoutModel",
      "_view_count": null,
      "_view_module": "@jupyter-widgets/base",
      "_view_module_version": "1.2.0",
      "_view_name": "LayoutView",
      "align_content": null,
      "align_items": null,
      "align_self": null,
      "border": null,
      "bottom": null,
      "display": null,
      "flex": null,
      "flex_flow": null,
      "grid_area": null,
      "grid_auto_columns": null,
      "grid_auto_flow": null,
      "grid_auto_rows": null,
      "grid_column": null,
      "grid_gap": null,
      "grid_row": null,
      "grid_template_areas": null,
      "grid_template_columns": null,
      "grid_template_rows": null,
      "height": null,
      "justify_content": null,
      "justify_items": null,
      "left": null,
      "margin": null,
      "max_height": null,
      "max_width": null,
      "min_height": null,
      "min_width": null,
      "object_fit": null,
      "object_position": null,
      "order": null,
      "overflow": null,
      "overflow_x": null,
      "overflow_y": null,
      "padding": null,
      "right": null,
      "top": null,
      "visibility": null,
      "width": null
     }
    },
    "ae70f8cd257b47cc9af26e1dc7c1ec38": {
     "model_module": "@jupyter-widgets/controls",
     "model_module_version": "1.5.0",
     "model_name": "HTMLModel",
     "state": {
      "_dom_classes": [],
      "_model_module": "@jupyter-widgets/controls",
      "_model_module_version": "1.5.0",
      "_model_name": "HTMLModel",
      "_view_count": null,
      "_view_module": "@jupyter-widgets/controls",
      "_view_module_version": "1.5.0",
      "_view_name": "HTMLView",
      "description": "",
      "description_tooltip": null,
      "layout": "IPY_MODEL_2a86b108d37548eba7e5042a00f6d63a",
      "placeholder": "​",
      "style": "IPY_MODEL_2a592d63a5b24791ad351b5c911fac65",
      "value": " 44.7M/44.7M [00:00&lt;00:00, 59.7MB/s]"
     }
    },
    "dee11a91c86e4ca1a05b7cb62af41fee": {
     "model_module": "@jupyter-widgets/base",
     "model_module_version": "1.2.0",
     "model_name": "LayoutModel",
     "state": {
      "_model_module": "@jupyter-widgets/base",
      "_model_module_version": "1.2.0",
      "_model_name": "LayoutModel",
      "_view_count": null,
      "_view_module": "@jupyter-widgets/base",
      "_view_module_version": "1.2.0",
      "_view_name": "LayoutView",
      "align_content": null,
      "align_items": null,
      "align_self": null,
      "border": null,
      "bottom": null,
      "display": null,
      "flex": null,
      "flex_flow": null,
      "grid_area": null,
      "grid_auto_columns": null,
      "grid_auto_flow": null,
      "grid_auto_rows": null,
      "grid_column": null,
      "grid_gap": null,
      "grid_row": null,
      "grid_template_areas": null,
      "grid_template_columns": null,
      "grid_template_rows": null,
      "height": null,
      "justify_content": null,
      "justify_items": null,
      "left": null,
      "margin": null,
      "max_height": null,
      "max_width": null,
      "min_height": null,
      "min_width": null,
      "object_fit": null,
      "object_position": null,
      "order": null,
      "overflow": null,
      "overflow_x": null,
      "overflow_y": null,
      "padding": null,
      "right": null,
      "top": null,
      "visibility": null,
      "width": null
     }
    },
    "e62345a5fe3244e3ad50cee5ff01ae93": {
     "model_module": "@jupyter-widgets/controls",
     "model_module_version": "1.5.0",
     "model_name": "ProgressStyleModel",
     "state": {
      "_model_module": "@jupyter-widgets/controls",
      "_model_module_version": "1.5.0",
      "_model_name": "ProgressStyleModel",
      "_view_count": null,
      "_view_module": "@jupyter-widgets/base",
      "_view_module_version": "1.2.0",
      "_view_name": "StyleView",
      "bar_color": null,
      "description_width": ""
     }
    },
    "e952a4ef79f2406082f01c1ef44be20e": {
     "model_module": "@jupyter-widgets/base",
     "model_module_version": "1.2.0",
     "model_name": "LayoutModel",
     "state": {
      "_model_module": "@jupyter-widgets/base",
      "_model_module_version": "1.2.0",
      "_model_name": "LayoutModel",
      "_view_count": null,
      "_view_module": "@jupyter-widgets/base",
      "_view_module_version": "1.2.0",
      "_view_name": "LayoutView",
      "align_content": null,
      "align_items": null,
      "align_self": null,
      "border": null,
      "bottom": null,
      "display": null,
      "flex": null,
      "flex_flow": null,
      "grid_area": null,
      "grid_auto_columns": null,
      "grid_auto_flow": null,
      "grid_auto_rows": null,
      "grid_column": null,
      "grid_gap": null,
      "grid_row": null,
      "grid_template_areas": null,
      "grid_template_columns": null,
      "grid_template_rows": null,
      "height": null,
      "justify_content": null,
      "justify_items": null,
      "left": null,
      "margin": null,
      "max_height": null,
      "max_width": null,
      "min_height": null,
      "min_width": null,
      "object_fit": null,
      "object_position": null,
      "order": null,
      "overflow": null,
      "overflow_x": null,
      "overflow_y": null,
      "padding": null,
      "right": null,
      "top": null,
      "visibility": null,
      "width": null
     }
    }
   }
  }
 },
 "nbformat": 4,
 "nbformat_minor": 5
}
