{
 "cells": [
  {
   "cell_type": "code",
   "execution_count": 1,
   "id": "f1c102cc",
   "metadata": {
    "id": "cace261f"
   },
   "outputs": [
    {
     "name": "stderr",
     "output_type": "stream",
     "text": [
      "/usr/local/lib/python3.8/dist-packages/tqdm/auto.py:22: TqdmWarning: IProgress not found. Please update jupyter and ipywidgets. See https://ipywidgets.readthedocs.io/en/stable/user_install.html\n",
      "  from .autonotebook import tqdm as notebook_tqdm\n"
     ]
    }
   ],
   "source": [
    "import os\n",
    "import random\n",
    "import shutil\n",
    "import time\n",
    "import warnings\n",
    "\n",
    "import torch\n",
    "import torch.nn as nn\n",
    "import torch.backends.cudnn as cudnn\n",
    "import torch.optim\n",
    "\n",
    "import torch.utils.data\n",
    "import torchvision\n",
    "import torchvision.transforms as transforms\n",
    "import torchvision.datasets as datasets\n",
    "import torchvision.models as models\n",
    "from torch.cuda.amp import autocast, GradScaler\n",
    "\n",
    "import torch.distributed as dist\n",
    "\n",
    "from torch.nn.parallel import DistributedDataParallel as DDP"
   ]
  },
  {
   "cell_type": "code",
   "execution_count": 2,
   "id": "05cc8c97",
   "metadata": {},
   "outputs": [
    {
     "name": "stderr",
     "output_type": "stream",
     "text": [
      "2023-03-13 07:14:17.244184: I tensorflow/core/platform/cpu_feature_guard.cc:193] This TensorFlow binary is optimized with oneAPI Deep Neural Network Library (oneDNN) to use the following CPU instructions in performance-critical operations:  AVX2 FMA\n",
      "To enable them in other operations, rebuild TensorFlow with the appropriate compiler flags.\n",
      "2023-03-13 07:14:18.055456: W tensorflow/compiler/xla/stream_executor/platform/default/dso_loader.cc:64] Could not load dynamic library 'libnvinfer.so.7'; dlerror: libnvinfer.so.7: cannot open shared object file: No such file or directory; LD_LIBRARY_PATH: /usr/local/cuda/compat/lib.real:/usr/local/lib/python3.8/dist-packages/torch/lib:/usr/local/lib/python3.8/dist-packages/torch_tensorrt/lib:/usr/local/cuda/compat/lib:/usr/local/nvidia/lib:/usr/local/nvidia/lib64:/usr/local/cuda-11/lib64\n",
      "2023-03-13 07:14:18.055570: W tensorflow/compiler/xla/stream_executor/platform/default/dso_loader.cc:64] Could not load dynamic library 'libnvinfer_plugin.so.7'; dlerror: libnvinfer_plugin.so.7: cannot open shared object file: No such file or directory; LD_LIBRARY_PATH: /usr/local/cuda/compat/lib.real:/usr/local/lib/python3.8/dist-packages/torch/lib:/usr/local/lib/python3.8/dist-packages/torch_tensorrt/lib:/usr/local/cuda/compat/lib:/usr/local/nvidia/lib:/usr/local/nvidia/lib64:/usr/local/cuda-11/lib64\n",
      "2023-03-13 07:14:18.055579: W tensorflow/compiler/tf2tensorrt/utils/py_utils.cc:38] TF-TRT Warning: Cannot dlopen some TensorRT libraries. If you would like to use Nvidia GPU with TensorRT, please make sure the missing libraries mentioned above are installed properly.\n"
     ]
    }
   ],
   "source": [
    "from torch.utils.tensorboard import SummaryWriter\n",
    "\n",
    "# create TensorBoard summary writer\n",
    "log_dir = '/workspace/w251-hw9/logs'\n",
    "writer = SummaryWriter(log_dir)"
   ]
  },
  {
   "cell_type": "code",
   "execution_count": 3,
   "id": "b6b7497d",
   "metadata": {},
   "outputs": [],
   "source": [
    "GPU=0"
   ]
  },
  {
   "cell_type": "code",
   "execution_count": 4,
   "id": "6c082ae1",
   "metadata": {
    "id": "363e2b75"
   },
   "outputs": [],
   "source": [
    "SEED=1\n",
    "\n",
    "random.seed(SEED)\n",
    "torch.manual_seed(SEED)\n",
    "cudnn.deterministic = True\n",
    "\n",
    "scaler = GradScaler()"
   ]
  },
  {
   "cell_type": "code",
   "execution_count": 5,
   "id": "b7b5a5c8",
   "metadata": {},
   "outputs": [
    {
     "data": {
      "text/plain": [
       "1"
      ]
     },
     "execution_count": 5,
     "metadata": {},
     "output_type": "execute_result"
    }
   ],
   "source": [
    "torch.cuda.device_count()"
   ]
  },
  {
   "cell_type": "code",
   "execution_count": 6,
   "id": "913500dd",
   "metadata": {
    "id": "0d479743"
   },
   "outputs": [],
   "source": [
    "START_EPOCH = 0"
   ]
  },
  {
   "cell_type": "code",
   "execution_count": 7,
   "id": "3fa3e023",
   "metadata": {
    "id": "97b1a0aa",
    "tags": [
     "parameters"
    ]
   },
   "outputs": [],
   "source": [
    "ARCH = 'resnet18'\n",
    "EPOCHS = 2\n",
    "LR = 0.1\n",
    "MOMENTUM = 0.9\n",
    "WEIGHT_DECAY = 5e-4\n",
    "PRINT_FREQ = 50\n",
    "TRAIN_BATCH=512\n",
    "VAL_BATCH=512\n",
    "WORKERS=2\n",
    "\n",
    "TRAINDIR=\"/data/train\"\n",
    "VALDIR=\"/data/val\""
   ]
  },
  {
   "cell_type": "markdown",
   "id": "c863aec8",
   "metadata": {
    "id": "e86c3188"
   },
   "source": [
    "### Check if cuda is available here"
   ]
  },
  {
   "cell_type": "code",
   "execution_count": 8,
   "id": "1c2e2266",
   "metadata": {
    "colab": {
     "base_uri": "https://localhost:8080/"
    },
    "id": "63a0499b",
    "outputId": "4a90cd73-a4b2-42ea-fb9a-e3afb36f2063"
   },
   "outputs": [],
   "source": [
    "# check if cuda is available in this cell\n",
    "# if it is not available, you should not go forward!\n",
    "if not torch.cuda.is_available():\n",
    "    print(\"GPU not detected...\")"
   ]
  },
  {
   "cell_type": "code",
   "execution_count": 9,
   "id": "2279c2b4",
   "metadata": {},
   "outputs": [],
   "source": [
    "# set your active device to your GPU in this cell\n",
    "#device = torch.device(\"cuda\")\n",
    "GPU = torch.device('cuda:0')\n",
    "cudnn.benchmark = True"
   ]
  },
  {
   "cell_type": "markdown",
   "id": "741188cf",
   "metadata": {
    "id": "f83c35f6"
   },
   "source": [
    "### Create the multi cluster world"
   ]
  },
  {
   "cell_type": "code",
   "execution_count": 10,
   "id": "c65032d3",
   "metadata": {
    "id": "252a08a3"
   },
   "outputs": [],
   "source": [
    "WORLD_SIZE = 2\n",
    "BACKEND = 'nccl'\n",
    "#where is the master?\n",
    "URL = 'tcp://172.31.7.210:1234' #ip of master VM"
   ]
  },
  {
   "cell_type": "code",
   "execution_count": 11,
   "id": "c554e86e",
   "metadata": {
    "id": "d8e7ec23"
   },
   "outputs": [],
   "source": [
    "RANK = 0 #this is for the master, use a 1 for the other vm"
   ]
  },
  {
   "cell_type": "code",
   "execution_count": 12,
   "id": "e2ccdc33",
   "metadata": {},
   "outputs": [],
   "source": [
    "dist.init_process_group(backend = BACKEND, init_method = URL, \n",
    "                        world_size = WORLD_SIZE, rank = RANK)"
   ]
  },
  {
   "cell_type": "code",
   "execution_count": 13,
   "id": "57307631",
   "metadata": {},
   "outputs": [
    {
     "name": "stdout",
     "output_type": "stream",
     "text": [
      "Rank: 0, World size: 2\n"
     ]
    }
   ],
   "source": [
    "print(f\"Rank: {dist.get_rank()}, World size: {dist.get_world_size()}\")"
   ]
  },
  {
   "cell_type": "code",
   "execution_count": 14,
   "id": "a42bd663",
   "metadata": {
    "id": "1e5ddf20"
   },
   "outputs": [],
   "source": [
    "torch.cuda.set_device(GPU)\n",
    "cudnn.benchmark = True"
   ]
  },
  {
   "cell_type": "code",
   "execution_count": 15,
   "id": "e6602864",
   "metadata": {},
   "outputs": [],
   "source": [
    "global_step = 0"
   ]
  },
  {
   "cell_type": "markdown",
   "id": "44225e66",
   "metadata": {
    "id": "7cdd6e12"
   },
   "source": [
    "### Fill in the heart of the train section below"
   ]
  },
  {
   "cell_type": "code",
   "execution_count": 16,
   "id": "ce464d63",
   "metadata": {
    "id": "70dbd4c4"
   },
   "outputs": [],
   "source": [
    "def train(train_loader, model, criterion, optimizer, epoch):\n",
    "    global global_step\n",
    "    batch_time = AverageMeter('Time', ':6.3f')\n",
    "    data_time = AverageMeter('Data', ':6.3f')\n",
    "    losses = AverageMeter('Loss', ':.4e')\n",
    "    top1 = AverageMeter('Acc@1', ':6.2f')\n",
    "    top5 = AverageMeter('Acc@5', ':6.2f')\n",
    "    progress = ProgressMeter(\n",
    "        len(train_loader),\n",
    "        [batch_time, data_time, losses, top1, top5],\n",
    "        prefix=\"Epoch: [{}]\".format(epoch))\n",
    "\n",
    "    ######################\n",
    "    # switch model to train mode here\n",
    "    model.train()\n",
    "    ################\n",
    "    \n",
    "    end = time.time()\n",
    "    for i, (images, target) in enumerate(train_loader):\n",
    "        # measure data loading time\n",
    "        data_time.update(time.time() - end)\n",
    "\n",
    "        #####################\n",
    "        if GPU is not None:\n",
    "            # send the images to cuda device\n",
    "            images = images.cuda(GPU, non_blocking=True)\n",
    "        if torch.cuda.is_available():\n",
    "            # send the target to cuda device\n",
    "            target = target.cuda(GPU, non_blocking=True)\n",
    "\n",
    "        \n",
    "        with autocast():\n",
    "            # compute output\n",
    "            output = model(images)\n",
    "            # compute loss\n",
    "            loss = criterion(output, target)\n",
    "\n",
    "\n",
    "        # measure accuracy and record loss\n",
    "        acc1, acc5 = accuracy(output, target, topk=(1, 5))\n",
    "        losses.update(loss.item(), images.size(0))\n",
    "        top1.update(acc1[0], images.size(0))\n",
    "        top5.update(acc5[0], images.size(0))\n",
    "\n",
    "\n",
    "        #### zero out gradients in the optimier\n",
    "        optimizer.zero_grad()\n",
    "        scaler.scale(loss).backward()\n",
    "        scaler.step(optimizer)\n",
    "        scaler.update()\n",
    "\n",
    "        # measure elapsed time\n",
    "        batch_time.update(time.time() - end)\n",
    "        end = time.time()\n",
    "        \n",
    "        writer.add_scalar(\"Loss/train\", loss, global_step = global_step)\n",
    "        writer.add_scalar(\"acc1/train\", top1.avg, global_step = global_step)\n",
    "        writer.add_scalar(\"acc5/train\", top5.avg, global_step = global_step)\n",
    "        global_step = global_step + 1\n",
    "\n",
    "        if i % PRINT_FREQ == 0:\n",
    "            progress.display(i)"
   ]
  },
  {
   "cell_type": "markdown",
   "id": "b66b6840",
   "metadata": {
    "id": "deb3b62e"
   },
   "source": [
    "#### Fill in the validate section below"
   ]
  },
  {
   "cell_type": "code",
   "execution_count": 17,
   "id": "fb61cd3a",
   "metadata": {
    "id": "a3f276cc"
   },
   "outputs": [],
   "source": [
    "def validate(val_loader, model, criterion):\n",
    "    global global_step\n",
    "    batch_time = AverageMeter('Time', ':6.3f')\n",
    "    losses = AverageMeter('Loss', ':.4e')\n",
    "    top1 = AverageMeter('Acc@1', ':6.2f')\n",
    "    top5 = AverageMeter('Acc@5', ':6.2f')\n",
    "    progress = ProgressMeter(\n",
    "        len(val_loader),\n",
    "        [batch_time, losses, top1, top5],\n",
    "        prefix='Test: ')\n",
    "\n",
    "    # switch to evaluate mode\n",
    "    model.eval()\n",
    "\n",
    "    with torch.no_grad():\n",
    "        end = time.time()\n",
    "        for i, (images, target) in enumerate(val_loader):\n",
    "            \n",
    "            if GPU is not None:\n",
    "                images = images.cuda(GPU, non_blocking=True)\n",
    "            if torch.cuda.is_available():\n",
    "                target = target.cuda(GPU, non_blocking=True)\n",
    "\n",
    "            # compute output & loss\n",
    "            output = model(images)\n",
    "            loss = criterion(output, target)\n",
    "\n",
    "            # measure accuracy and record loss\n",
    "            acc1, acc5 = accuracy(output, target, topk=(1, 5))\n",
    "            losses.update(loss.item(), images.size(0))\n",
    "            top1.update(acc1[0], images.size(0))\n",
    "            top5.update(acc5[0], images.size(0))\n",
    "\n",
    "            # measure elapsed time\n",
    "            batch_time.update(time.time() - end)\n",
    "            end = time.time()\n",
    "\n",
    "            if i % PRINT_FREQ == 0:\n",
    "                progress.display(i)\n",
    "        \n",
    "        writer.add_scalar(\"Loss/val\", loss, global_step = global_step)\n",
    "        writer.add_scalar(\"acc1/val\", top1.avg, global_step = global_step)\n",
    "        writer.add_scalar(\"acc5/val\", top5.avg, global_step = global_step)\n",
    "        global_step = global_step + 1\n",
    "        \n",
    "        # TODO: this should also be done with the ProgressMeter\n",
    "        print(' * Acc@1 {top1.avg:.3f} Acc@5 {top5.avg:.3f}'\n",
    "              .format(top1=top1, top5=top5))\n",
    "\n",
    "    return top1.avg"
   ]
  },
  {
   "cell_type": "markdown",
   "id": "f2336a06",
   "metadata": {
    "id": "fbe49226"
   },
   "source": [
    "### Save the checkpoint"
   ]
  },
  {
   "cell_type": "code",
   "execution_count": 18,
   "id": "742111d7",
   "metadata": {
    "id": "ff8a4159"
   },
   "outputs": [],
   "source": [
    "def save_checkpoint(state, is_best, filename='checkpoints/two_vm_checkpoint.pth.tar'):\n",
    "    # save the model state!\n",
    "    torch.save(state, filename)\n",
    "    \n",
    "    if is_best:\n",
    "        shutil.copyfile(filename, 'checkpoints/two_vm_model_best.pth.tar')"
   ]
  },
  {
   "cell_type": "code",
   "execution_count": 19,
   "id": "9bac6e6c",
   "metadata": {
    "id": "1cd7ea3a"
   },
   "outputs": [],
   "source": [
    "class AverageMeter(object):\n",
    "    \"\"\"Computes and stores the average and current value\"\"\"\n",
    "    def __init__(self, name, fmt=':f'):\n",
    "        self.name = name\n",
    "        self.fmt = fmt\n",
    "        self.reset()\n",
    "\n",
    "    def reset(self):\n",
    "        self.val = 0\n",
    "        self.avg = 0\n",
    "        self.sum = 0\n",
    "        self.count = 0\n",
    "\n",
    "    def update(self, val, n=1):\n",
    "        self.val = val\n",
    "        self.sum += val * n\n",
    "        self.count += n\n",
    "        self.avg = self.sum / self.count\n",
    "\n",
    "    def __str__(self):\n",
    "        fmtstr = '{name} {val' + self.fmt + '} ({avg' + self.fmt + '})'\n",
    "        return fmtstr.format(**self.__dict__)"
   ]
  },
  {
   "cell_type": "code",
   "execution_count": 20,
   "id": "304a828a",
   "metadata": {
    "id": "e1da87ab"
   },
   "outputs": [],
   "source": [
    "class ProgressMeter(object):\n",
    "    def __init__(self, num_batches, meters, prefix=\"\"):\n",
    "        self.batch_fmtstr = self._get_batch_fmtstr(num_batches)\n",
    "        self.meters = meters\n",
    "        self.prefix = prefix\n",
    "\n",
    "    def display(self, batch):\n",
    "        entries = [self.prefix + self.batch_fmtstr.format(batch)]\n",
    "        entries += [str(meter) for meter in self.meters]\n",
    "        print('\\t'.join(entries))\n",
    "\n",
    "    def _get_batch_fmtstr(self, num_batches):\n",
    "        num_digits = len(str(num_batches // 1))\n",
    "        fmt = '{:' + str(num_digits) + 'd}'\n",
    "        return '[' + fmt + '/' + fmt.format(num_batches) + ']'"
   ]
  },
  {
   "cell_type": "code",
   "execution_count": 21,
   "id": "b5346f10",
   "metadata": {
    "id": "00211030"
   },
   "outputs": [],
   "source": [
    "# if we are adjusting the LR manually use this\n",
    "def adjust_learning_rate(optimizer, epoch):\n",
    "    \"\"\"Sets the learning rate to the initial LR decayed by 10 every 30 epochs\"\"\"\n",
    "    lr = LR * (0.1 ** (epoch // 30))\n",
    "    for param_group in optimizer.param_groups:\n",
    "        param_group['lr'] = lr"
   ]
  },
  {
   "cell_type": "code",
   "execution_count": 22,
   "id": "31d763ca",
   "metadata": {
    "id": "da2c1382"
   },
   "outputs": [],
   "source": [
    "def accuracy(output, target, topk=(1,)):\n",
    "    \"\"\"Computes the accuracy over the k top predictions for the specified values of k\"\"\"\n",
    "    with torch.no_grad():\n",
    "        maxk = max(topk)\n",
    "        batch_size = target.size(0)\n",
    "\n",
    "        _, pred = output.topk(maxk, 1, True, True)\n",
    "        pred = pred.t()\n",
    "        correct = pred.eq(target.view(1, -1).expand_as(pred))\n",
    "\n",
    "        res = []\n",
    "        for k in topk:\n",
    "            correct_k = correct[:k].reshape(-1).float().sum(0, keepdim=True)\n",
    "            res.append(correct_k.mul_(100.0 / batch_size))\n",
    "        return res"
   ]
  },
  {
   "cell_type": "code",
   "execution_count": 23,
   "id": "b4122dad",
   "metadata": {
    "id": "5c29e7a1"
   },
   "outputs": [],
   "source": [
    "imagenet_mean_RGB = [0.47889522, 0.47227842, 0.43047404]\n",
    "imagenet_std_RGB = [0.24205776, 0.23828046, 0.25874835]"
   ]
  },
  {
   "cell_type": "code",
   "execution_count": 24,
   "id": "d3deee48",
   "metadata": {
    "id": "e1a61c02"
   },
   "outputs": [],
   "source": [
    "normalize = transforms.Normalize(mean=imagenet_mean_RGB, std=imagenet_std_RGB)"
   ]
  },
  {
   "cell_type": "code",
   "execution_count": 25,
   "id": "1c99f72c",
   "metadata": {
    "id": "47dd3e49"
   },
   "outputs": [],
   "source": [
    "IMG_SIZE = 224\n",
    "INPUT_SIZE = 256\n",
    "NUM_CLASSES = 1000"
   ]
  },
  {
   "cell_type": "markdown",
   "id": "4996b665",
   "metadata": {
    "id": "de4387cb"
   },
   "source": [
    "### Initialize the model using the architecture you selected above"
   ]
  },
  {
   "cell_type": "code",
   "execution_count": 26,
   "id": "2b0cacba",
   "metadata": {
    "colab": {
     "base_uri": "https://localhost:8080/",
     "height": 158,
     "referenced_widgets": [
      "3ed3d41696734302b0a8c2bb5a9026cc",
      "4205c04d3e5c4244b144861a9263a322",
      "11839112304746f9a7fd76784958faa4",
      "ae70f8cd257b47cc9af26e1dc7c1ec38",
      "620dae24fc9e4be0b245c019bfb7f4c5",
      "dee11a91c86e4ca1a05b7cb62af41fee",
      "48c5147a2da546af988e4dea6703653a",
      "e952a4ef79f2406082f01c1ef44be20e",
      "e62345a5fe3244e3ad50cee5ff01ae93",
      "2a86b108d37548eba7e5042a00f6d63a",
      "2a592d63a5b24791ad351b5c911fac65"
     ]
    },
    "id": "b1abcc33",
    "outputId": "a35b9eae-97fa-4402-b2bb-c7330adaf1ba"
   },
   "outputs": [
    {
     "name": "stderr",
     "output_type": "stream",
     "text": [
      "/usr/local/lib/python3.8/dist-packages/torchvision/models/_utils.py:208: UserWarning: The parameter 'pretrained' is deprecated since 0.13 and may be removed in the future, please use 'weights' instead.\n",
      "  warnings.warn(\n",
      "/usr/local/lib/python3.8/dist-packages/torchvision/models/_utils.py:223: UserWarning: Arguments other than a weight enum or `None` for 'weights' are deprecated since 0.13 and may be removed in the future. The current behavior is equivalent to passing `weights=ResNet18_Weights.IMAGENET1K_V1`. You can also use `weights=ResNet18_Weights.DEFAULT` to get the most up-to-date weights.\n",
      "  warnings.warn(msg)\n"
     ]
    }
   ],
   "source": [
    "# select the model\n",
    "model = models.__dict__[ARCH](pretrained=True)"
   ]
  },
  {
   "cell_type": "code",
   "execution_count": 27,
   "id": "24c2264d",
   "metadata": {},
   "outputs": [],
   "source": [
    "inf = model.fc.in_features"
   ]
  },
  {
   "cell_type": "code",
   "execution_count": 28,
   "id": "45a39f5e",
   "metadata": {},
   "outputs": [],
   "source": [
    "model.fc = nn.Linear(inf,NUM_CLASSES)"
   ]
  },
  {
   "cell_type": "markdown",
   "id": "5fcb2ca4",
   "metadata": {
    "id": "2db1bb69"
   },
   "source": [
    "### Send the model to the cuda device"
   ]
  },
  {
   "cell_type": "code",
   "execution_count": 29,
   "id": "313262a9",
   "metadata": {
    "id": "7d23ccb4"
   },
   "outputs": [],
   "source": [
    "model.cuda(GPU)\n",
    "model = torch.nn.parallel.DistributedDataParallel(model, device_ids = [GPU])"
   ]
  },
  {
   "cell_type": "markdown",
   "id": "2749e4b0",
   "metadata": {
    "id": "47a8eb8d"
   },
   "source": [
    "### Instantiate the loss to cross entropy"
   ]
  },
  {
   "cell_type": "code",
   "execution_count": 30,
   "id": "f77dc5f3",
   "metadata": {
    "id": "a49ae3c9"
   },
   "outputs": [],
   "source": [
    "# use the cross-entropy loss\n",
    "criterion = nn.CrossEntropyLoss().cuda(GPU)"
   ]
  },
  {
   "cell_type": "markdown",
   "id": "307753f3",
   "metadata": {
    "id": "8a49045a"
   },
   "source": [
    "### Instantiate the optimizer to SGD"
   ]
  },
  {
   "cell_type": "code",
   "execution_count": 31,
   "id": "60e75cb5",
   "metadata": {
    "id": "aa3a04dd"
   },
   "outputs": [],
   "source": [
    "# use SGD .. use the momentum and weight decay vars\n",
    "optimizer = torch.optim.SGD(model.parameters(), lr=LR, momentum=MOMENTUM, weight_decay=WEIGHT_DECAY)"
   ]
  },
  {
   "cell_type": "markdown",
   "id": "c5048a5b",
   "metadata": {
    "id": "f93ef11d"
   },
   "source": [
    "#### Create the learning rate scheduler"
   ]
  },
  {
   "cell_type": "code",
   "execution_count": 32,
   "id": "cc249436",
   "metadata": {
    "id": "a0e1727a"
   },
   "outputs": [],
   "source": [
    "# use CosineAnnealingLR\n",
    "scheduler = torch.optim.lr_scheduler.CosineAnnealingLR(optimizer, T_max=EPOCHS, eta_min=0.00001)"
   ]
  },
  {
   "cell_type": "code",
   "execution_count": 33,
   "id": "a9733d60",
   "metadata": {
    "id": "2fe08caa"
   },
   "outputs": [],
   "source": [
    "transform_train = transforms.Compose([\n",
    "    transforms.Resize(INPUT_SIZE),\n",
    "    transforms.CenterCrop(IMG_SIZE),\n",
    "    transforms.RandomHorizontalFlip(),\n",
    "    transforms.ToTensor(),\n",
    "    transforms.Normalize(imagenet_mean_RGB, imagenet_std_RGB),\n",
    "])"
   ]
  },
  {
   "cell_type": "markdown",
   "id": "8b63d41a",
   "metadata": {
    "id": "236528e1"
   },
   "source": [
    "### Create the train dataset object"
   ]
  },
  {
   "cell_type": "code",
   "execution_count": 34,
   "id": "ac3a7372",
   "metadata": {
    "id": "7c29f6b1"
   },
   "outputs": [],
   "source": [
    "train_dataset = datasets.ImageFolder(root=TRAINDIR, \n",
    "                                     transform=transform_train)"
   ]
  },
  {
   "cell_type": "code",
   "execution_count": 35,
   "id": "6c0725ff",
   "metadata": {
    "id": "63dfe3c0"
   },
   "outputs": [],
   "source": [
    "transform_val = transforms.Compose([\n",
    "    transforms.Resize(INPUT_SIZE),\n",
    "    transforms.CenterCrop(IMG_SIZE),\n",
    "    transforms.ToTensor(),\n",
    "    transforms.Normalize(imagenet_mean_RGB, imagenet_std_RGB),\n",
    "])"
   ]
  },
  {
   "cell_type": "markdown",
   "id": "3ec354bf",
   "metadata": {
    "id": "38ca6c39"
   },
   "source": [
    "### Create the val dataset object"
   ]
  },
  {
   "cell_type": "code",
   "execution_count": 36,
   "id": "2883c306",
   "metadata": {
    "id": "42d58f82"
   },
   "outputs": [],
   "source": [
    "# use torchvision.datasets.CIFAR10\n",
    "# val_dataset = torchvision.datasets.CIFAR10(root='./data', train=False, download=True, transform=transform_val)\n",
    "val_dataset = datasets.ImageFolder(root=VALDIR, transform=transform_val)"
   ]
  },
  {
   "cell_type": "markdown",
   "id": "3f5bf187",
   "metadata": {
    "id": "3a291660"
   },
   "source": [
    "### Create the train dataloader"
   ]
  },
  {
   "cell_type": "code",
   "execution_count": 37,
   "id": "b2e843b4",
   "metadata": {
    "id": "574373be"
   },
   "outputs": [],
   "source": [
    "# fill this in\n",
    "train_loader = torch.utils.data.DataLoader(train_dataset, \n",
    "                     batch_size=TRAIN_BATCH,\n",
    "                     shuffle=False,\n",
    "                     num_workers=WORKERS,\n",
    "                     pin_memory=True,\n",
    "                     sampler=torch.utils.data.distributed.DistributedSampler(train_dataset))"
   ]
  },
  {
   "cell_type": "code",
   "execution_count": 38,
   "id": "2ddc2bf3",
   "metadata": {
    "id": "6aa623fe"
   },
   "outputs": [],
   "source": [
    "# fill this in..\n",
    "val_loader = torch.utils.data.DataLoader(val_dataset, \n",
    "                            batch_size=VAL_BATCH,\n",
    "                            shuffle=False, \n",
    "                            num_workers=WORKERS,\n",
    "                            sampler=None)"
   ]
  },
  {
   "cell_type": "code",
   "execution_count": 39,
   "id": "a62a1639",
   "metadata": {
    "id": "7cfa6766"
   },
   "outputs": [],
   "source": [
    "best_acc1 = 0"
   ]
  },
  {
   "cell_type": "code",
   "execution_count": 40,
   "id": "1940b2ac",
   "metadata": {
    "colab": {
     "base_uri": "https://localhost:8080/"
    },
    "id": "0d0620a6",
    "outputId": "7b7f29f6-75c9-40cf-8430-9bec156609d3"
   },
   "outputs": [
    {
     "name": "stdout",
     "output_type": "stream",
     "text": [
      "Epoch: [0][   0/1252]\tTime 12.319 (12.319)\tData  3.496 ( 3.496)\tLoss 7.1219e+00 (7.1219e+00)\tAcc@1   0.00 (  0.00)\tAcc@5   0.78 (  0.78)\n",
      "Epoch: [0][  50/1252]\tTime  1.966 ( 1.642)\tData  1.658 ( 0.914)\tLoss 2.4705e+00 (4.5116e+00)\tAcc@1  50.20 ( 24.34)\tAcc@5  76.37 ( 44.23)\n",
      "Epoch: [0][ 100/1252]\tTime  3.172 ( 1.669)\tData  1.990 ( 1.072)\tLoss 1.9650e+00 (3.3485e+00)\tAcc@1  56.45 ( 38.25)\tAcc@5  81.84 ( 61.59)\n",
      "Epoch: [0][ 150/1252]\tTime  2.189 ( 1.670)\tData  1.035 ( 1.009)\tLoss 1.8594e+00 (2.8572e+00)\tAcc@1  56.64 ( 44.39)\tAcc@5  81.64 ( 68.53)\n",
      "Epoch: [0][ 200/1252]\tTime  1.691 ( 1.676)\tData  1.384 ( 1.084)\tLoss 1.7614e+00 (2.5919e+00)\tAcc@1  57.62 ( 47.82)\tAcc@5  82.62 ( 72.17)\n",
      "Epoch: [0][ 250/1252]\tTime  1.992 ( 1.681)\tData  1.684 ( 1.146)\tLoss 1.6592e+00 (2.4285e+00)\tAcc@1  61.13 ( 49.87)\tAcc@5  86.33 ( 74.39)\n",
      "Epoch: [0][ 300/1252]\tTime  1.294 ( 1.681)\tData  0.989 ( 1.184)\tLoss 1.8289e+00 (2.3171e+00)\tAcc@1  57.42 ( 51.23)\tAcc@5  82.03 ( 75.82)\n",
      "Epoch: [0][ 350/1252]\tTime  1.635 ( 1.685)\tData  1.328 ( 1.215)\tLoss 1.6686e+00 (2.2384e+00)\tAcc@1  61.52 ( 52.21)\tAcc@5  84.18 ( 76.79)\n",
      "Epoch: [0][ 400/1252]\tTime  1.491 ( 1.687)\tData  1.185 ( 1.238)\tLoss 1.7799e+00 (2.1775e+00)\tAcc@1  57.03 ( 52.99)\tAcc@5  82.23 ( 77.57)\n",
      "Epoch: [0][ 450/1252]\tTime  1.744 ( 1.691)\tData  1.437 ( 1.257)\tLoss 1.6486e+00 (2.1301e+00)\tAcc@1  60.94 ( 53.62)\tAcc@5  84.57 ( 78.14)\n",
      "Epoch: [0][ 500/1252]\tTime  2.403 ( 1.694)\tData  2.096 ( 1.273)\tLoss 1.8616e+00 (2.0927e+00)\tAcc@1  56.05 ( 54.08)\tAcc@5  80.47 ( 78.58)\n",
      "Epoch: [0][ 550/1252]\tTime  2.112 ( 1.695)\tData  1.807 ( 1.285)\tLoss 1.8308e+00 (2.0625e+00)\tAcc@1  57.42 ( 54.45)\tAcc@5  81.64 ( 78.96)\n",
      "Epoch: [0][ 600/1252]\tTime  3.319 ( 1.698)\tData  3.009 ( 1.296)\tLoss 1.7777e+00 (2.0376e+00)\tAcc@1  56.45 ( 54.74)\tAcc@5  83.59 ( 79.28)\n",
      "Epoch: [0][ 650/1252]\tTime  3.088 ( 1.697)\tData  2.782 ( 1.302)\tLoss 1.8635e+00 (2.0168e+00)\tAcc@1  56.05 ( 54.97)\tAcc@5  80.47 ( 79.53)\n",
      "Epoch: [0][ 700/1252]\tTime  3.110 ( 1.698)\tData  2.803 ( 1.310)\tLoss 1.8669e+00 (1.9989e+00)\tAcc@1  55.27 ( 55.17)\tAcc@5  78.91 ( 79.76)\n",
      "Epoch: [0][ 750/1252]\tTime  3.073 ( 1.700)\tData  2.768 ( 1.317)\tLoss 1.6824e+00 (1.9846e+00)\tAcc@1  59.77 ( 55.32)\tAcc@5  83.59 ( 79.93)\n",
      "Epoch: [0][ 800/1252]\tTime  3.070 ( 1.701)\tData  2.762 ( 1.323)\tLoss 1.7228e+00 (1.9708e+00)\tAcc@1  56.64 ( 55.47)\tAcc@5  83.40 ( 80.10)\n",
      "Epoch: [0][ 850/1252]\tTime  2.861 ( 1.701)\tData  2.555 ( 1.327)\tLoss 1.8470e+00 (1.9595e+00)\tAcc@1  56.05 ( 55.61)\tAcc@5  83.20 ( 80.24)\n",
      "Epoch: [0][ 900/1252]\tTime  2.278 ( 1.700)\tData  1.968 ( 1.330)\tLoss 1.7179e+00 (1.9493e+00)\tAcc@1  58.01 ( 55.72)\tAcc@5  83.40 ( 80.35)\n",
      "Epoch: [0][ 950/1252]\tTime  2.991 ( 1.701)\tData  2.684 ( 1.334)\tLoss 1.9415e+00 (1.9402e+00)\tAcc@1  52.54 ( 55.85)\tAcc@5  80.08 ( 80.44)\n",
      "Epoch: [0][1000/1252]\tTime  3.214 ( 1.701)\tData  2.909 ( 1.337)\tLoss 1.7130e+00 (1.9333e+00)\tAcc@1  57.81 ( 55.93)\tAcc@5  82.62 ( 80.50)\n",
      "Epoch: [0][1050/1252]\tTime  2.986 ( 1.702)\tData  2.680 ( 1.341)\tLoss 2.0197e+00 (1.9266e+00)\tAcc@1  49.80 ( 56.00)\tAcc@5  79.30 ( 80.58)\n",
      "Epoch: [0][1100/1252]\tTime  3.200 ( 1.702)\tData  2.893 ( 1.344)\tLoss 1.9561e+00 (1.9207e+00)\tAcc@1  56.84 ( 56.07)\tAcc@5  80.66 ( 80.64)\n",
      "Epoch: [0][1150/1252]\tTime  3.105 ( 1.703)\tData  2.797 ( 1.346)\tLoss 1.9214e+00 (1.9140e+00)\tAcc@1  54.88 ( 56.16)\tAcc@5  79.49 ( 80.72)\n",
      "Epoch: [0][1200/1252]\tTime  2.936 ( 1.702)\tData  2.630 ( 1.348)\tLoss 1.8666e+00 (1.9091e+00)\tAcc@1  56.05 ( 56.22)\tAcc@5  80.66 ( 80.77)\n",
      "Epoch: [0][1250/1252]\tTime  2.913 ( 1.702)\tData  2.607 ( 1.349)\tLoss 1.7319e+00 (1.9041e+00)\tAcc@1  61.72 ( 56.28)\tAcc@5  83.40 ( 80.83)\n",
      "Test: [ 0/98]\tTime  5.175 ( 5.175)\tLoss 1.9519e+00 (1.9519e+00)\tAcc@1  54.88 ( 54.88)\tAcc@5  81.45 ( 81.45)\n",
      "Test: [50/98]\tTime  3.126 ( 1.798)\tLoss 2.6646e+00 (2.4678e+00)\tAcc@1  37.50 ( 44.16)\tAcc@5  69.92 ( 71.81)\n",
      " * Acc@1 42.184 Acc@5 68.954\n",
      "lr: [0.05000500000000001]\n",
      "Epoch: [1][   0/1252]\tTime  3.993 ( 3.993)\tData  3.685 ( 3.685)\tLoss 1.7584e+00 (1.7584e+00)\tAcc@1  56.64 ( 56.64)\tAcc@5  83.59 ( 83.59)\n",
      "Epoch: [1][  50/1252]\tTime  3.167 ( 1.780)\tData  2.862 ( 1.473)\tLoss 1.4702e+00 (1.6524e+00)\tAcc@1  66.21 ( 60.48)\tAcc@5  86.33 ( 83.97)\n",
      "Epoch: [1][ 100/1252]\tTime  3.178 ( 1.739)\tData  2.872 ( 1.432)\tLoss 1.4983e+00 (1.5987e+00)\tAcc@1  67.19 ( 61.97)\tAcc@5  84.38 ( 84.65)\n",
      "Epoch: [1][ 150/1252]\tTime  3.157 ( 1.726)\tData  2.852 ( 1.419)\tLoss 1.5659e+00 (1.5617e+00)\tAcc@1  65.04 ( 62.76)\tAcc@5  84.18 ( 85.22)\n",
      "Epoch: [1][ 200/1252]\tTime  3.050 ( 1.720)\tData  2.744 ( 1.413)\tLoss 1.4813e+00 (1.5368e+00)\tAcc@1  63.87 ( 63.27)\tAcc@5  88.67 ( 85.67)\n",
      "Epoch: [1][ 250/1252]\tTime  3.035 ( 1.719)\tData  2.727 ( 1.412)\tLoss 1.4264e+00 (1.5222e+00)\tAcc@1  66.60 ( 63.58)\tAcc@5  88.67 ( 85.93)\n",
      "Epoch: [1][ 300/1252]\tTime  3.122 ( 1.714)\tData  2.817 ( 1.407)\tLoss 1.5061e+00 (1.5096e+00)\tAcc@1  64.26 ( 63.88)\tAcc@5  86.13 ( 86.11)\n",
      "Epoch: [1][ 350/1252]\tTime  2.994 ( 1.711)\tData  2.686 ( 1.404)\tLoss 1.3520e+00 (1.5022e+00)\tAcc@1  67.38 ( 64.03)\tAcc@5  88.48 ( 86.21)\n",
      "Epoch: [1][ 400/1252]\tTime  2.591 ( 1.710)\tData  2.284 ( 1.403)\tLoss 1.5504e+00 (1.4942e+00)\tAcc@1  62.50 ( 64.26)\tAcc@5  85.16 ( 86.34)\n",
      "Epoch: [1][ 450/1252]\tTime  2.093 ( 1.710)\tData  1.787 ( 1.403)\tLoss 1.4078e+00 (1.4887e+00)\tAcc@1  66.99 ( 64.40)\tAcc@5  87.70 ( 86.40)\n",
      "Epoch: [1][ 500/1252]\tTime  1.793 ( 1.713)\tData  1.485 ( 1.406)\tLoss 1.5469e+00 (1.4833e+00)\tAcc@1  58.79 ( 64.52)\tAcc@5  85.94 ( 86.47)\n",
      "Epoch: [1][ 550/1252]\tTime  1.331 ( 1.712)\tData  1.025 ( 1.405)\tLoss 1.5137e+00 (1.4798e+00)\tAcc@1  64.84 ( 64.60)\tAcc@5  85.74 ( 86.52)\n",
      "Epoch: [1][ 600/1252]\tTime  2.715 ( 1.712)\tData  2.408 ( 1.405)\tLoss 1.4537e+00 (1.4760e+00)\tAcc@1  65.23 ( 64.68)\tAcc@5  87.70 ( 86.60)\n",
      "Epoch: [1][ 650/1252]\tTime  3.164 ( 1.710)\tData  2.857 ( 1.403)\tLoss 1.5029e+00 (1.4731e+00)\tAcc@1  62.70 ( 64.73)\tAcc@5  84.77 ( 86.64)\n",
      "Epoch: [1][ 700/1252]\tTime  3.034 ( 1.710)\tData  2.728 ( 1.404)\tLoss 1.5443e+00 (1.4705e+00)\tAcc@1  64.45 ( 64.76)\tAcc@5  83.59 ( 86.68)\n",
      "Epoch: [1][ 750/1252]\tTime  2.990 ( 1.710)\tData  2.682 ( 1.403)\tLoss 1.3743e+00 (1.4694e+00)\tAcc@1  64.84 ( 64.77)\tAcc@5  88.67 ( 86.71)\n",
      "Epoch: [1][ 800/1252]\tTime  2.992 ( 1.709)\tData  2.685 ( 1.403)\tLoss 1.3724e+00 (1.4666e+00)\tAcc@1  66.80 ( 64.81)\tAcc@5  88.09 ( 86.76)\n",
      "Epoch: [1][ 850/1252]\tTime  3.007 ( 1.709)\tData  2.701 ( 1.402)\tLoss 1.5058e+00 (1.4648e+00)\tAcc@1  62.70 ( 64.84)\tAcc@5  86.91 ( 86.79)\n",
      "Epoch: [1][ 900/1252]\tTime  2.710 ( 1.708)\tData  2.403 ( 1.401)\tLoss 1.3465e+00 (1.4629e+00)\tAcc@1  68.55 ( 64.90)\tAcc@5  88.67 ( 86.80)\n",
      "Epoch: [1][ 950/1252]\tTime  3.150 ( 1.708)\tData  2.843 ( 1.401)\tLoss 1.6180e+00 (1.4617e+00)\tAcc@1  62.11 ( 64.93)\tAcc@5  83.79 ( 86.82)\n",
      "Epoch: [1][1000/1252]\tTime  3.203 ( 1.708)\tData  2.896 ( 1.401)\tLoss 1.4100e+00 (1.4613e+00)\tAcc@1  65.62 ( 64.94)\tAcc@5  87.11 ( 86.83)\n",
      "Epoch: [1][1050/1252]\tTime  3.150 ( 1.708)\tData  2.845 ( 1.401)\tLoss 1.5722e+00 (1.4609e+00)\tAcc@1  60.16 ( 64.96)\tAcc@5  86.52 ( 86.85)\n",
      "Epoch: [1][1100/1252]\tTime  3.081 ( 1.708)\tData  2.774 ( 1.401)\tLoss 1.5711e+00 (1.4601e+00)\tAcc@1  60.94 ( 64.99)\tAcc@5  86.33 ( 86.86)\n",
      "Epoch: [1][1150/1252]\tTime  3.059 ( 1.708)\tData  2.753 ( 1.401)\tLoss 1.6060e+00 (1.4588e+00)\tAcc@1  63.09 ( 65.02)\tAcc@5  85.35 ( 86.88)\n",
      "Epoch: [1][1200/1252]\tTime  3.048 ( 1.708)\tData  2.742 ( 1.401)\tLoss 1.4486e+00 (1.4580e+00)\tAcc@1  64.65 ( 65.04)\tAcc@5  87.89 ( 86.89)\n",
      "Epoch: [1][1250/1252]\tTime  2.976 ( 1.708)\tData  2.671 ( 1.401)\tLoss 1.4313e+00 (1.4574e+00)\tAcc@1  66.80 ( 65.05)\tAcc@5  87.11 ( 86.90)\n",
      "Test: [ 0/98]\tTime  3.970 ( 3.970)\tLoss 1.4527e+00 (1.4527e+00)\tAcc@1  64.26 ( 64.26)\tAcc@5  87.11 ( 87.11)\n",
      "Test: [50/98]\tTime  3.083 ( 1.783)\tLoss 2.1698e+00 (1.9155e+00)\tAcc@1  49.41 ( 54.35)\tAcc@5  73.24 ( 80.58)\n",
      " * Acc@1 51.552 Acc@5 77.380\n",
      "lr: [1e-05]\n",
      "CPU times: user 19min 17s, sys: 13min 39s, total: 32min 57s\n",
      "Wall time: 1h 16min 49s\n"
     ]
    }
   ],
   "source": [
    "%%time\n",
    "\n",
    "for epoch in range(START_EPOCH, EPOCHS):\n",
    "#    adjust_learning_rate(optimizer, epoch)\n",
    "\n",
    "    # train for one epoch\n",
    "    train(train_loader, model, criterion, optimizer, epoch)\n",
    "\n",
    "    # evaluate on validation set\n",
    "    acc1 = validate(val_loader, model, criterion)\n",
    "\n",
    "    # remember best acc@1 and save checkpoint\n",
    "    is_best = acc1 > best_acc1\n",
    "    best_acc1 = max(acc1, best_acc1)\n",
    "\n",
    "    if RANK == 0:\n",
    "        save_checkpoint({\n",
    "            'epoch': epoch + 1,\n",
    "            'arch': ARCH,\n",
    "            'state_dict': model.state_dict(),\n",
    "            'best_acc1': best_acc1,\n",
    "            'optimizer' : optimizer.state_dict(),\n",
    "        }, is_best)\n",
    "    \n",
    "    scheduler.step()\n",
    "    print('lr: ' + str(scheduler.get_last_lr()))\n",
    "    \n",
    "# close TensorBoard writer\n",
    "writer.close()"
   ]
  },
  {
   "cell_type": "code",
   "execution_count": null,
   "id": "58ef9d32",
   "metadata": {
    "colab": {
     "base_uri": "https://localhost:8080/",
     "height": 295
    },
    "id": "45c4cb64",
    "outputId": "996942c0-1c50-4d8f-d0a6-481c3de7200e"
   },
   "outputs": [],
   "source": []
  },
  {
   "cell_type": "code",
   "execution_count": null,
   "id": "2d0ae0ea",
   "metadata": {},
   "outputs": [],
   "source": []
  }
 ],
 "metadata": {
  "accelerator": "GPU",
  "colab": {
   "provenance": []
  },
  "gpuClass": "standard",
  "kernelspec": {
   "display_name": "Python 3 (ipykernel)",
   "language": "python",
   "name": "python3"
  },
  "language_info": {
   "codemirror_mode": {
    "name": "ipython",
    "version": 3
   },
   "file_extension": ".py",
   "mimetype": "text/x-python",
   "name": "python",
   "nbconvert_exporter": "python",
   "pygments_lexer": "ipython3",
   "version": "3.8.10"
  },
  "widgets": {
   "application/vnd.jupyter.widget-state+json": {
    "11839112304746f9a7fd76784958faa4": {
     "model_module": "@jupyter-widgets/controls",
     "model_module_version": "1.5.0",
     "model_name": "FloatProgressModel",
     "state": {
      "_dom_classes": [],
      "_model_module": "@jupyter-widgets/controls",
      "_model_module_version": "1.5.0",
      "_model_name": "FloatProgressModel",
      "_view_count": null,
      "_view_module": "@jupyter-widgets/controls",
      "_view_module_version": "1.5.0",
      "_view_name": "ProgressView",
      "bar_style": "success",
      "description": "",
      "description_tooltip": null,
      "layout": "IPY_MODEL_e952a4ef79f2406082f01c1ef44be20e",
      "max": 46830571,
      "min": 0,
      "orientation": "horizontal",
      "style": "IPY_MODEL_e62345a5fe3244e3ad50cee5ff01ae93",
      "value": 46830571
     }
    },
    "2a592d63a5b24791ad351b5c911fac65": {
     "model_module": "@jupyter-widgets/controls",
     "model_module_version": "1.5.0",
     "model_name": "DescriptionStyleModel",
     "state": {
      "_model_module": "@jupyter-widgets/controls",
      "_model_module_version": "1.5.0",
      "_model_name": "DescriptionStyleModel",
      "_view_count": null,
      "_view_module": "@jupyter-widgets/base",
      "_view_module_version": "1.2.0",
      "_view_name": "StyleView",
      "description_width": ""
     }
    },
    "2a86b108d37548eba7e5042a00f6d63a": {
     "model_module": "@jupyter-widgets/base",
     "model_module_version": "1.2.0",
     "model_name": "LayoutModel",
     "state": {
      "_model_module": "@jupyter-widgets/base",
      "_model_module_version": "1.2.0",
      "_model_name": "LayoutModel",
      "_view_count": null,
      "_view_module": "@jupyter-widgets/base",
      "_view_module_version": "1.2.0",
      "_view_name": "LayoutView",
      "align_content": null,
      "align_items": null,
      "align_self": null,
      "border": null,
      "bottom": null,
      "display": null,
      "flex": null,
      "flex_flow": null,
      "grid_area": null,
      "grid_auto_columns": null,
      "grid_auto_flow": null,
      "grid_auto_rows": null,
      "grid_column": null,
      "grid_gap": null,
      "grid_row": null,
      "grid_template_areas": null,
      "grid_template_columns": null,
      "grid_template_rows": null,
      "height": null,
      "justify_content": null,
      "justify_items": null,
      "left": null,
      "margin": null,
      "max_height": null,
      "max_width": null,
      "min_height": null,
      "min_width": null,
      "object_fit": null,
      "object_position": null,
      "order": null,
      "overflow": null,
      "overflow_x": null,
      "overflow_y": null,
      "padding": null,
      "right": null,
      "top": null,
      "visibility": null,
      "width": null
     }
    },
    "3ed3d41696734302b0a8c2bb5a9026cc": {
     "model_module": "@jupyter-widgets/controls",
     "model_module_version": "1.5.0",
     "model_name": "HBoxModel",
     "state": {
      "_dom_classes": [],
      "_model_module": "@jupyter-widgets/controls",
      "_model_module_version": "1.5.0",
      "_model_name": "HBoxModel",
      "_view_count": null,
      "_view_module": "@jupyter-widgets/controls",
      "_view_module_version": "1.5.0",
      "_view_name": "HBoxView",
      "box_style": "",
      "children": [
       "IPY_MODEL_4205c04d3e5c4244b144861a9263a322",
       "IPY_MODEL_11839112304746f9a7fd76784958faa4",
       "IPY_MODEL_ae70f8cd257b47cc9af26e1dc7c1ec38"
      ],
      "layout": "IPY_MODEL_620dae24fc9e4be0b245c019bfb7f4c5"
     }
    },
    "4205c04d3e5c4244b144861a9263a322": {
     "model_module": "@jupyter-widgets/controls",
     "model_module_version": "1.5.0",
     "model_name": "HTMLModel",
     "state": {
      "_dom_classes": [],
      "_model_module": "@jupyter-widgets/controls",
      "_model_module_version": "1.5.0",
      "_model_name": "HTMLModel",
      "_view_count": null,
      "_view_module": "@jupyter-widgets/controls",
      "_view_module_version": "1.5.0",
      "_view_name": "HTMLView",
      "description": "",
      "description_tooltip": null,
      "layout": "IPY_MODEL_dee11a91c86e4ca1a05b7cb62af41fee",
      "placeholder": "​",
      "style": "IPY_MODEL_48c5147a2da546af988e4dea6703653a",
      "value": "100%"
     }
    },
    "48c5147a2da546af988e4dea6703653a": {
     "model_module": "@jupyter-widgets/controls",
     "model_module_version": "1.5.0",
     "model_name": "DescriptionStyleModel",
     "state": {
      "_model_module": "@jupyter-widgets/controls",
      "_model_module_version": "1.5.0",
      "_model_name": "DescriptionStyleModel",
      "_view_count": null,
      "_view_module": "@jupyter-widgets/base",
      "_view_module_version": "1.2.0",
      "_view_name": "StyleView",
      "description_width": ""
     }
    },
    "620dae24fc9e4be0b245c019bfb7f4c5": {
     "model_module": "@jupyter-widgets/base",
     "model_module_version": "1.2.0",
     "model_name": "LayoutModel",
     "state": {
      "_model_module": "@jupyter-widgets/base",
      "_model_module_version": "1.2.0",
      "_model_name": "LayoutModel",
      "_view_count": null,
      "_view_module": "@jupyter-widgets/base",
      "_view_module_version": "1.2.0",
      "_view_name": "LayoutView",
      "align_content": null,
      "align_items": null,
      "align_self": null,
      "border": null,
      "bottom": null,
      "display": null,
      "flex": null,
      "flex_flow": null,
      "grid_area": null,
      "grid_auto_columns": null,
      "grid_auto_flow": null,
      "grid_auto_rows": null,
      "grid_column": null,
      "grid_gap": null,
      "grid_row": null,
      "grid_template_areas": null,
      "grid_template_columns": null,
      "grid_template_rows": null,
      "height": null,
      "justify_content": null,
      "justify_items": null,
      "left": null,
      "margin": null,
      "max_height": null,
      "max_width": null,
      "min_height": null,
      "min_width": null,
      "object_fit": null,
      "object_position": null,
      "order": null,
      "overflow": null,
      "overflow_x": null,
      "overflow_y": null,
      "padding": null,
      "right": null,
      "top": null,
      "visibility": null,
      "width": null
     }
    },
    "ae70f8cd257b47cc9af26e1dc7c1ec38": {
     "model_module": "@jupyter-widgets/controls",
     "model_module_version": "1.5.0",
     "model_name": "HTMLModel",
     "state": {
      "_dom_classes": [],
      "_model_module": "@jupyter-widgets/controls",
      "_model_module_version": "1.5.0",
      "_model_name": "HTMLModel",
      "_view_count": null,
      "_view_module": "@jupyter-widgets/controls",
      "_view_module_version": "1.5.0",
      "_view_name": "HTMLView",
      "description": "",
      "description_tooltip": null,
      "layout": "IPY_MODEL_2a86b108d37548eba7e5042a00f6d63a",
      "placeholder": "​",
      "style": "IPY_MODEL_2a592d63a5b24791ad351b5c911fac65",
      "value": " 44.7M/44.7M [00:00&lt;00:00, 59.7MB/s]"
     }
    },
    "dee11a91c86e4ca1a05b7cb62af41fee": {
     "model_module": "@jupyter-widgets/base",
     "model_module_version": "1.2.0",
     "model_name": "LayoutModel",
     "state": {
      "_model_module": "@jupyter-widgets/base",
      "_model_module_version": "1.2.0",
      "_model_name": "LayoutModel",
      "_view_count": null,
      "_view_module": "@jupyter-widgets/base",
      "_view_module_version": "1.2.0",
      "_view_name": "LayoutView",
      "align_content": null,
      "align_items": null,
      "align_self": null,
      "border": null,
      "bottom": null,
      "display": null,
      "flex": null,
      "flex_flow": null,
      "grid_area": null,
      "grid_auto_columns": null,
      "grid_auto_flow": null,
      "grid_auto_rows": null,
      "grid_column": null,
      "grid_gap": null,
      "grid_row": null,
      "grid_template_areas": null,
      "grid_template_columns": null,
      "grid_template_rows": null,
      "height": null,
      "justify_content": null,
      "justify_items": null,
      "left": null,
      "margin": null,
      "max_height": null,
      "max_width": null,
      "min_height": null,
      "min_width": null,
      "object_fit": null,
      "object_position": null,
      "order": null,
      "overflow": null,
      "overflow_x": null,
      "overflow_y": null,
      "padding": null,
      "right": null,
      "top": null,
      "visibility": null,
      "width": null
     }
    },
    "e62345a5fe3244e3ad50cee5ff01ae93": {
     "model_module": "@jupyter-widgets/controls",
     "model_module_version": "1.5.0",
     "model_name": "ProgressStyleModel",
     "state": {
      "_model_module": "@jupyter-widgets/controls",
      "_model_module_version": "1.5.0",
      "_model_name": "ProgressStyleModel",
      "_view_count": null,
      "_view_module": "@jupyter-widgets/base",
      "_view_module_version": "1.2.0",
      "_view_name": "StyleView",
      "bar_color": null,
      "description_width": ""
     }
    },
    "e952a4ef79f2406082f01c1ef44be20e": {
     "model_module": "@jupyter-widgets/base",
     "model_module_version": "1.2.0",
     "model_name": "LayoutModel",
     "state": {
      "_model_module": "@jupyter-widgets/base",
      "_model_module_version": "1.2.0",
      "_model_name": "LayoutModel",
      "_view_count": null,
      "_view_module": "@jupyter-widgets/base",
      "_view_module_version": "1.2.0",
      "_view_name": "LayoutView",
      "align_content": null,
      "align_items": null,
      "align_self": null,
      "border": null,
      "bottom": null,
      "display": null,
      "flex": null,
      "flex_flow": null,
      "grid_area": null,
      "grid_auto_columns": null,
      "grid_auto_flow": null,
      "grid_auto_rows": null,
      "grid_column": null,
      "grid_gap": null,
      "grid_row": null,
      "grid_template_areas": null,
      "grid_template_columns": null,
      "grid_template_rows": null,
      "height": null,
      "justify_content": null,
      "justify_items": null,
      "left": null,
      "margin": null,
      "max_height": null,
      "max_width": null,
      "min_height": null,
      "min_width": null,
      "object_fit": null,
      "object_position": null,
      "order": null,
      "overflow": null,
      "overflow_x": null,
      "overflow_y": null,
      "padding": null,
      "right": null,
      "top": null,
      "visibility": null,
      "width": null
     }
    }
   }
  }
 },
 "nbformat": 4,
 "nbformat_minor": 5
}
